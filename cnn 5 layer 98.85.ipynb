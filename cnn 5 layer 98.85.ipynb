{
 "cells": [
  {
   "cell_type": "code",
   "execution_count": 1,
   "metadata": {},
   "outputs": [],
   "source": [
    "import sys\n",
    "import os\n",
    "from math import log\n",
    "import numpy as np\n",
    "import scipy as sp\n",
    "from PIL import Image\n",
    "import matplotlib.pyplot as plt\n",
    "from keras.preprocessing.image import ImageDataGenerator"
   ]
  },
  {
   "cell_type": "code",
   "execution_count": 2,
   "metadata": {},
   "outputs": [],
   "source": [
    "import tensorflow as tf\n",
    "from tensorflow import keras\n",
    "from keras import Sequential\n",
    "from keras.layers import Dense,Conv2D,MaxPooling2D,Flatten"
   ]
  },
  {
   "cell_type": "code",
   "execution_count": 3,
   "metadata": {},
   "outputs": [],
   "source": [
    "path_root = 'malimg_data' "
   ]
  },
  {
   "cell_type": "code",
   "execution_count": 4,
   "metadata": {},
   "outputs": [
    {
     "name": "stdout",
     "output_type": "stream",
     "text": [
      "Found 9339 images belonging to 25 classes.\n"
     ]
    }
   ],
   "source": [
    "batches = ImageDataGenerator().flow_from_directory(directory=path_root, target_size=(128,128), batch_size=10000)"
   ]
  },
  {
   "cell_type": "code",
   "execution_count": 5,
   "metadata": {},
   "outputs": [
    {
     "data": {
      "text/plain": [
       "{'Adialer.C': 0,\n",
       " 'Agent.FYI': 1,\n",
       " 'Allaple.A': 2,\n",
       " 'Allaple.L': 3,\n",
       " 'Alueron.gen!J': 4,\n",
       " 'Autorun.K': 5,\n",
       " 'C2LOP.P': 6,\n",
       " 'C2LOP.gen!g': 7,\n",
       " 'Dialplatform.B': 8,\n",
       " 'Dontovo.A': 9,\n",
       " 'Fakerean': 10,\n",
       " 'Instantaccess': 11,\n",
       " 'Lolyda.AA1': 12,\n",
       " 'Lolyda.AA2': 13,\n",
       " 'Lolyda.AA3': 14,\n",
       " 'Lolyda.AT': 15,\n",
       " 'Malex.gen!J': 16,\n",
       " 'Obfuscator.AD': 17,\n",
       " 'Rbot!gen': 18,\n",
       " 'Skintrim.N': 19,\n",
       " 'Swizzor.gen!E': 20,\n",
       " 'Swizzor.gen!I': 21,\n",
       " 'VB.AT': 22,\n",
       " 'Wintrim.BX': 23,\n",
       " 'Yuner.A': 24}"
      ]
     },
     "execution_count": 5,
     "metadata": {},
     "output_type": "execute_result"
    }
   ],
   "source": [
    "batches.class_indices"
   ]
  },
  {
   "cell_type": "code",
   "execution_count": 6,
   "metadata": {},
   "outputs": [],
   "source": [
    "ds, labels = next(batches)"
   ]
  },
  {
   "cell_type": "code",
   "execution_count": 7,
   "metadata": {},
   "outputs": [
    {
     "data": {
      "text/plain": [
       "(9339, 128, 128, 3)"
      ]
     },
     "execution_count": 7,
     "metadata": {},
     "output_type": "execute_result"
    }
   ],
   "source": [
    "ds.shape"
   ]
  },
  {
   "cell_type": "code",
   "execution_count": 8,
   "metadata": {},
   "outputs": [
    {
     "data": {
      "text/plain": [
       "(9339, 25)"
      ]
     },
     "execution_count": 8,
     "metadata": {},
     "output_type": "execute_result"
    }
   ],
   "source": [
    "labels.shape"
   ]
  },
  {
   "cell_type": "code",
   "execution_count": 9,
   "metadata": {},
   "outputs": [],
   "source": [
    "classes = batches.class_indices.keys()"
   ]
  },
  {
   "cell_type": "code",
   "execution_count": 10,
   "metadata": {},
   "outputs": [],
   "source": [
    "perc = (sum(labels)/labels.shape[0])*100"
   ]
  },
  {
   "cell_type": "code",
   "execution_count": 11,
   "metadata": {},
   "outputs": [
    {
     "data": {
      "text/plain": [
       "<BarContainer object of 25 artists>"
      ]
     },
     "execution_count": 11,
     "metadata": {},
     "output_type": "execute_result"
    },
    {
     "data": {
      "image/png": "[encoded data removed]",
      "text/plain": [
       "<Figure size 432x288 with 1 Axes>"
      ]
     },
     "metadata": {
      "needs_background": "light"
     },
     "output_type": "display_data"
    }
   ],
   "source": [
    "plt.xticks(rotation='vertical')\n",
    "plt.bar(classes,perc)"
   ]
  },
  {
   "cell_type": "code",
   "execution_count": 12,
   "metadata": {},
   "outputs": [],
   "source": [
    "from sklearn.model_selection import train_test_split\n",
    "X_train, X_test, y_train, y_test = train_test_split(ds/255.,labels, test_size=0.3)"
   ]
  },
  {
   "cell_type": "code",
   "execution_count": 13,
   "metadata": {},
   "outputs": [
    {
     "data": {
      "text/plain": [
       "(6537, 128, 128, 3)"
      ]
     },
     "execution_count": 13,
     "metadata": {},
     "output_type": "execute_result"
    }
   ],
   "source": [
    "X_train.shape"
   ]
  },
  {
   "cell_type": "code",
   "execution_count": 14,
   "metadata": {},
   "outputs": [
    {
     "data": {
      "text/plain": [
       "(2802, 128, 128, 3)"
      ]
     },
     "execution_count": 14,
     "metadata": {},
     "output_type": "execute_result"
    }
   ],
   "source": [
    "X_test.shape"
   ]
  },
  {
   "cell_type": "code",
   "execution_count": 15,
   "metadata": {},
   "outputs": [],
   "source": [
    "model = Sequential()\n",
    "\n",
    "\n",
    "\n",
    "model.add(Conv2D(32,kernel_size = (3,3),padding = 'valid',activation = 'relu',input_shape = (128,128,3)))\n",
    "model.add(MaxPooling2D(pool_size = (2,2),strides = 2, padding = 'valid'))\n",
    "\n",
    "model.add(Conv2D(32,kernel_size = (3,3),padding = 'valid',activation = 'relu'))\n",
    "model.add(MaxPooling2D(pool_size = (2,2),strides = 2, padding = 'valid'))\n",
    "\n",
    "model.add(Conv2D(64,kernel_size = (3,3),padding = 'valid',activation = 'relu'))\n",
    "model.add(MaxPooling2D(pool_size = (2,2),strides = 2, padding = 'valid'))\n",
    "\n",
    "model.add(Conv2D(64,kernel_size = (3,3),padding = 'valid',activation = 'relu'))\n",
    "model.add(MaxPooling2D(pool_size = (2,2),strides = 2, padding = 'valid'))\n",
    "\n",
    "model.add(Conv2D(128,kernel_size = (3,3),padding = 'valid',activation = 'relu'))\n",
    "model.add(MaxPooling2D(pool_size = (2,2),strides = 2, padding = 'valid'))\n",
    "\n",
    "model.add(Flatten())\n",
    "\n",
    "model.add(Dense(256, activation = 'relu'))\n",
    "model.add(Dense(128, activation = 'relu'))\n",
    "model.add(Dense(64,activation = 'relu'))\n",
    "model.add(Dense(25,activation = 'softmax'))"
   ]
  },
  {
   "cell_type": "code",
   "execution_count": 16,
   "metadata": {},
   "outputs": [
    {
     "name": "stdout",
     "output_type": "stream",
     "text": [
      "Model: \"sequential\"\n",
      "_________________________________________________________________\n",
      " Layer (type)                Output Shape              Param #   \n",
      "=================================================================\n",
      " conv2d (Conv2D)             (None, 126, 126, 32)      896       \n",
      "                                                                 \n",
      " max_pooling2d (MaxPooling2D  (None, 63, 63, 32)       0         \n",
      " )                                                               \n",
      "                                                                 \n",
      " conv2d_1 (Conv2D)           (None, 61, 61, 32)        9248      \n",
      "                                                                 \n",
      " max_pooling2d_1 (MaxPooling  (None, 30, 30, 32)       0         \n",
      " 2D)                                                             \n",
      "                                                                 \n",
      " conv2d_2 (Conv2D)           (None, 28, 28, 64)        18496     \n",
      "                                                                 \n",
      " max_pooling2d_2 (MaxPooling  (None, 14, 14, 64)       0         \n",
      " 2D)                                                             \n",
      "                                                                 \n",
      " conv2d_3 (Conv2D)           (None, 12, 12, 64)        36928     \n",
      "                                                                 \n",
      " max_pooling2d_3 (MaxPooling  (None, 6, 6, 64)         0         \n",
      " 2D)                                                             \n",
      "                                                                 \n",
      " conv2d_4 (Conv2D)           (None, 4, 4, 128)         73856     \n",
      "                                                                 \n",
      " max_pooling2d_4 (MaxPooling  (None, 2, 2, 128)        0         \n",
      " 2D)                                                             \n",
      "                                                                 \n",
      " flatten (Flatten)           (None, 512)               0         \n",
      "                                                                 \n",
      " dense (Dense)               (None, 256)               131328    \n",
      "                                                                 \n",
      " dense_1 (Dense)             (None, 128)               32896     \n",
      "                                                                 \n",
      " dense_2 (Dense)             (None, 64)                8256      \n",
      "                                                                 \n",
      " dense_3 (Dense)             (None, 25)                1625      \n",
      "                                                                 \n",
      "=================================================================\n",
      "Total params: 313,529\n",
      "Trainable params: 313,529\n",
      "Non-trainable params: 0\n",
      "_________________________________________________________________\n"
     ]
    }
   ],
   "source": [
    "model.summary()"
   ]
  },
  {
   "cell_type": "code",
   "execution_count": 17,
   "metadata": {},
   "outputs": [],
   "source": [
    "model.compile(optimizer = 'adam',loss = 'categorical_crossentropy',metrics = ['accuracy'])\n"
   ]
  },
  {
   "cell_type": "code",
   "execution_count": 18,
   "metadata": {},
   "outputs": [
    {
     "name": "stdout",
     "output_type": "stream",
     "text": [
      "Epoch 1/50\n",
      "205/205 [==============================] - 12s 50ms/step - loss: 1.5648 - accuracy: 0.5080 - val_loss: 0.7563 - val_accuracy: 0.7794\n",
      "Epoch 2/50\n",
      "205/205 [==============================] - 9s 46ms/step - loss: 0.5374 - accuracy: 0.8380 - val_loss: 0.3580 - val_accuracy: 0.8837\n",
      "Epoch 3/50\n",
      "205/205 [==============================] - 10s 47ms/step - loss: 0.2902 - accuracy: 0.9133 - val_loss: 0.2120 - val_accuracy: 0.9311\n",
      "Epoch 4/50\n",
      "205/205 [==============================] - 9s 46ms/step - loss: 0.1967 - accuracy: 0.9387 - val_loss: 0.1788 - val_accuracy: 0.9500\n",
      "Epoch 5/50\n",
      "205/205 [==============================] - 9s 46ms/step - loss: 0.1494 - accuracy: 0.9517 - val_loss: 0.1543 - val_accuracy: 0.9515\n",
      "Epoch 6/50\n",
      "205/205 [==============================] - 10s 47ms/step - loss: 0.1389 - accuracy: 0.9584 - val_loss: 0.1389 - val_accuracy: 0.9572\n",
      "Epoch 7/50\n",
      "205/205 [==============================] - 10s 48ms/step - loss: 0.1243 - accuracy: 0.9608 - val_loss: 0.1596 - val_accuracy: 0.9575\n",
      "Epoch 8/50\n",
      "205/205 [==============================] - 10s 47ms/step - loss: 0.1215 - accuracy: 0.9624 - val_loss: 0.1307 - val_accuracy: 0.9597\n",
      "Epoch 9/50\n",
      "205/205 [==============================] - 10s 47ms/step - loss: 0.1088 - accuracy: 0.9673 - val_loss: 0.1345 - val_accuracy: 0.9604\n",
      "Epoch 10/50\n",
      "205/205 [==============================] - 10s 47ms/step - loss: 0.0799 - accuracy: 0.9741 - val_loss: 0.1411 - val_accuracy: 0.9611\n",
      "Epoch 11/50\n",
      "205/205 [==============================] - 10s 47ms/step - loss: 0.0821 - accuracy: 0.9726 - val_loss: 0.1737 - val_accuracy: 0.9522\n",
      "Epoch 12/50\n",
      "205/205 [==============================] - 9s 46ms/step - loss: 0.1063 - accuracy: 0.9645 - val_loss: 0.1335 - val_accuracy: 0.9618\n",
      "Epoch 13/50\n",
      "205/205 [==============================] - 9s 44ms/step - loss: 0.0854 - accuracy: 0.9745 - val_loss: 0.1370 - val_accuracy: 0.9622\n",
      "Epoch 14/50\n",
      "205/205 [==============================] - 9s 42ms/step - loss: 0.0855 - accuracy: 0.9737 - val_loss: 0.1274 - val_accuracy: 0.9632\n",
      "Epoch 15/50\n",
      "205/205 [==============================] - 9s 42ms/step - loss: 0.0668 - accuracy: 0.9783 - val_loss: 0.1052 - val_accuracy: 0.9693\n",
      "Epoch 16/50\n",
      "205/205 [==============================] - 9s 46ms/step - loss: 0.0838 - accuracy: 0.9751 - val_loss: 0.1138 - val_accuracy: 0.9679\n",
      "Epoch 17/50\n",
      "205/205 [==============================] - 9s 46ms/step - loss: 0.0588 - accuracy: 0.9800 - val_loss: 0.1345 - val_accuracy: 0.9636\n",
      "Epoch 18/50\n",
      "205/205 [==============================] - 9s 46ms/step - loss: 0.0612 - accuracy: 0.9815 - val_loss: 0.1452 - val_accuracy: 0.9647\n",
      "Epoch 19/50\n",
      "205/205 [==============================] - 9s 46ms/step - loss: 0.0645 - accuracy: 0.9804 - val_loss: 0.1610 - val_accuracy: 0.9615\n",
      "Epoch 20/50\n",
      "205/205 [==============================] - 9s 46ms/step - loss: 0.0631 - accuracy: 0.9807 - val_loss: 0.1090 - val_accuracy: 0.9704\n",
      "Epoch 21/50\n",
      "205/205 [==============================] - 10s 47ms/step - loss: 0.0498 - accuracy: 0.9845 - val_loss: 0.1314 - val_accuracy: 0.9679\n",
      "Epoch 22/50\n",
      "205/205 [==============================] - 10s 47ms/step - loss: 0.0878 - accuracy: 0.9741 - val_loss: 0.1216 - val_accuracy: 0.9647\n",
      "Epoch 23/50\n",
      "205/205 [==============================] - 10s 46ms/step - loss: 0.0707 - accuracy: 0.9798 - val_loss: 0.1129 - val_accuracy: 0.9718\n",
      "Epoch 24/50\n",
      "205/205 [==============================] - 10s 47ms/step - loss: 0.0704 - accuracy: 0.9784 - val_loss: 0.1698 - val_accuracy: 0.9622\n",
      "Epoch 25/50\n",
      "205/205 [==============================] - 10s 47ms/step - loss: 0.0588 - accuracy: 0.9815 - val_loss: 0.1307 - val_accuracy: 0.9697\n",
      "Epoch 26/50\n",
      "205/205 [==============================] - 10s 46ms/step - loss: 0.0541 - accuracy: 0.9830 - val_loss: 0.1175 - val_accuracy: 0.9690\n",
      "Epoch 27/50\n",
      "205/205 [==============================] - 11s 52ms/step - loss: 0.0415 - accuracy: 0.9865 - val_loss: 0.1418 - val_accuracy: 0.9704\n",
      "Epoch 28/50\n",
      "205/205 [==============================] - 11s 54ms/step - loss: 0.0424 - accuracy: 0.9865 - val_loss: 0.1536 - val_accuracy: 0.9707\n",
      "Epoch 29/50\n",
      "205/205 [==============================] - 11s 55ms/step - loss: 0.1297 - accuracy: 0.9696 - val_loss: 0.1149 - val_accuracy: 0.9665\n",
      "Epoch 30/50\n",
      "205/205 [==============================] - 11s 55ms/step - loss: 0.0620 - accuracy: 0.9807 - val_loss: 0.1342 - val_accuracy: 0.9625\n",
      "Epoch 31/50\n",
      "205/205 [==============================] - 11s 54ms/step - loss: 0.0487 - accuracy: 0.9847 - val_loss: 0.1399 - val_accuracy: 0.9697\n",
      "Epoch 32/50\n",
      "205/205 [==============================] - 11s 54ms/step - loss: 0.0428 - accuracy: 0.9865 - val_loss: 0.1283 - val_accuracy: 0.9704\n",
      "Epoch 33/50\n",
      "205/205 [==============================] - 11s 53ms/step - loss: 0.0396 - accuracy: 0.9879 - val_loss: 0.1584 - val_accuracy: 0.9700\n",
      "Epoch 34/50\n",
      "205/205 [==============================] - 10s 50ms/step - loss: 0.0505 - accuracy: 0.9849 - val_loss: 0.1131 - val_accuracy: 0.9725\n",
      "Epoch 35/50\n",
      "205/205 [==============================] - 10s 50ms/step - loss: 0.0368 - accuracy: 0.9885 - val_loss: 0.1365 - val_accuracy: 0.9725\n",
      "Epoch 36/50\n",
      "205/205 [==============================] - 10s 49ms/step - loss: 0.0689 - accuracy: 0.9786 - val_loss: 0.1358 - val_accuracy: 0.9590\n",
      "Epoch 37/50\n",
      "205/205 [==============================] - 11s 54ms/step - loss: 0.0542 - accuracy: 0.9836 - val_loss: 0.1702 - val_accuracy: 0.9625\n",
      "Epoch 38/50\n",
      "205/205 [==============================] - 11s 55ms/step - loss: 0.0562 - accuracy: 0.9827 - val_loss: 0.1133 - val_accuracy: 0.9722\n",
      "Epoch 39/50\n",
      "205/205 [==============================] - 11s 54ms/step - loss: 0.0404 - accuracy: 0.9876 - val_loss: 0.1416 - val_accuracy: 0.9729\n",
      "Epoch 40/50\n",
      "205/205 [==============================] - 11s 53ms/step - loss: 0.0366 - accuracy: 0.9885 - val_loss: 0.1528 - val_accuracy: 0.9707\n",
      "Epoch 41/50\n",
      "205/205 [==============================] - 11s 54ms/step - loss: 0.0372 - accuracy: 0.9885 - val_loss: 0.1546 - val_accuracy: 0.9704\n",
      "Epoch 42/50\n",
      "205/205 [==============================] - 11s 54ms/step - loss: 0.0363 - accuracy: 0.9885 - val_loss: 0.1563 - val_accuracy: 0.9711\n",
      "Epoch 43/50\n",
      "205/205 [==============================] - 12s 60ms/step - loss: 0.0363 - accuracy: 0.9885 - val_loss: 0.1572 - val_accuracy: 0.9714\n",
      "Epoch 44/50\n",
      "205/205 [==============================] - 11s 54ms/step - loss: 0.0359 - accuracy: 0.9885 - val_loss: 0.1664 - val_accuracy: 0.9714\n",
      "Epoch 45/50\n",
      "205/205 [==============================] - 11s 55ms/step - loss: 0.0364 - accuracy: 0.9885 - val_loss: 0.1597 - val_accuracy: 0.9714\n",
      "Epoch 46/50\n",
      "205/205 [==============================] - 10s 48ms/step - loss: 0.0359 - accuracy: 0.9885 - val_loss: 0.1716 - val_accuracy: 0.9714\n",
      "Epoch 47/50\n",
      "205/205 [==============================] - 10s 50ms/step - loss: 0.0367 - accuracy: 0.9885 - val_loss: 0.1855 - val_accuracy: 0.9714\n",
      "Epoch 48/50\n",
      "205/205 [==============================] - 10s 51ms/step - loss: 0.0359 - accuracy: 0.9885 - val_loss: 0.1705 - val_accuracy: 0.9697\n",
      "Epoch 49/50\n",
      "205/205 [==============================] - 10s 50ms/step - loss: 0.0375 - accuracy: 0.9885 - val_loss: 0.1772 - val_accuracy: 0.9711\n",
      "Epoch 50/50\n",
      "205/205 [==============================] - 11s 53ms/step - loss: 0.0365 - accuracy: 0.9885 - val_loss: 0.1791 - val_accuracy: 0.9704\n"
     ]
    }
   ],
   "source": [
    "history = model.fit(X_train,y_train,validation_data = (X_test,y_test),epochs = 50)\n"
   ]
  },
  {
   "cell_type": "code",
   "execution_count": 19,
   "metadata": {},
   "outputs": [
    {
     "data": {
      "image/png": "[encoded data removed]",
      "text/plain": [
       "<Figure size 432x288 with 1 Axes>"
      ]
     },
     "metadata": {
      "needs_background": "light"
     },
     "output_type": "display_data"
    }
   ],
   "source": [
    "plt.plot(history.history['accuracy'],color = 'red', label = 'train')\n",
    "plt.plot(history.history['val_accuracy'],color = 'blue', label = 'validation')\n",
    "plt.legend()\n",
    "plt.show()"
   ]
  },
  {
   "cell_type": "code",
   "execution_count": 20,
   "metadata": {},
   "outputs": [
    {
     "data": {
      "image/png": "[encoded data removed]",
      "text/plain": [
       "<Figure size 432x288 with 1 Axes>"
      ]
     },
     "metadata": {
      "needs_background": "light"
     },
     "output_type": "display_data"
    }
   ],
   "source": [
    "plt.plot(history.history['loss'],color = 'red',label = 'train')\n",
    "plt.plot(history.history['val_loss'],color = 'blue',label = 'vaidation')\n",
    "plt.legend()\n",
    "plt.show()"
   ]
  },
  {
   "cell_type": "code",
   "execution_count": null,
   "metadata": {},
   "outputs": [],
   "source": []
  }
 ],
 "metadata": {
  "kernelspec": {
   "display_name": "Python 3",
   "language": "python",
   "name": "python3"
  },
  "language_info": {
   "codemirror_mode": {
    "name": "ipython",
    "version": 3
   },
   "file_extension": ".py",
   "mimetype": "text/x-python",
   "name": "python",
   "nbconvert_exporter": "python",
   "pygments_lexer": "ipython3",
   "version": "3.7.6"
  }
 },
 "nbformat": 4,
 "nbformat_minor": 4
}
