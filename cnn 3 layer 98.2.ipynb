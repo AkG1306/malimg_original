{
 "cells": [
  {
   "cell_type": "code",
   "execution_count": 30,
   "metadata": {},
   "outputs": [],
   "source": [
    "import sys\n",
    "import os\n",
    "from math import log\n",
    "import numpy as np\n",
    "import scipy as sp\n",
    "from PIL import Image\n",
    "import matplotlib.pyplot as plt\n",
    "from keras.preprocessing.image import ImageDataGenerator"
   ]
  },
  {
   "cell_type": "code",
   "execution_count": 31,
   "metadata": {},
   "outputs": [],
   "source": [
    "import tensorflow as tf\n",
    "from tensorflow import keras\n",
    "from keras import Sequential\n",
    "from keras.layers import Dense,Conv2D,MaxPooling2D,Flatten"
   ]
  },
  {
   "cell_type": "code",
   "execution_count": 32,
   "metadata": {},
   "outputs": [],
   "source": [
    "path_root = 'malimg_data' "
   ]
  },
  {
   "cell_type": "code",
   "execution_count": 33,
   "metadata": {},
   "outputs": [
    {
     "name": "stdout",
     "output_type": "stream",
     "text": [
      "Found 9339 images belonging to 25 classes.\n"
     ]
    }
   ],
   "source": [
    "batches = ImageDataGenerator().flow_from_directory(directory=path_root, target_size=(64,64), batch_size=10000)"
   ]
  },
  {
   "cell_type": "code",
   "execution_count": 34,
   "metadata": {},
   "outputs": [
    {
     "data": {
      "text/plain": [
       "{'Adialer.C': 0,\n",
       " 'Agent.FYI': 1,\n",
       " 'Allaple.A': 2,\n",
       " 'Allaple.L': 3,\n",
       " 'Alueron.gen!J': 4,\n",
       " 'Autorun.K': 5,\n",
       " 'C2LOP.P': 6,\n",
       " 'C2LOP.gen!g': 7,\n",
       " 'Dialplatform.B': 8,\n",
       " 'Dontovo.A': 9,\n",
       " 'Fakerean': 10,\n",
       " 'Instantaccess': 11,\n",
       " 'Lolyda.AA1': 12,\n",
       " 'Lolyda.AA2': 13,\n",
       " 'Lolyda.AA3': 14,\n",
       " 'Lolyda.AT': 15,\n",
       " 'Malex.gen!J': 16,\n",
       " 'Obfuscator.AD': 17,\n",
       " 'Rbot!gen': 18,\n",
       " 'Skintrim.N': 19,\n",
       " 'Swizzor.gen!E': 20,\n",
       " 'Swizzor.gen!I': 21,\n",
       " 'VB.AT': 22,\n",
       " 'Wintrim.BX': 23,\n",
       " 'Yuner.A': 24}"
      ]
     },
     "execution_count": 34,
     "metadata": {},
     "output_type": "execute_result"
    }
   ],
   "source": [
    "batches.class_indices"
   ]
  },
  {
   "cell_type": "code",
   "execution_count": 35,
   "metadata": {},
   "outputs": [],
   "source": [
    "ds, labels = next(batches)"
   ]
  },
  {
   "cell_type": "code",
   "execution_count": 36,
   "metadata": {},
   "outputs": [
    {
     "data": {
      "text/plain": [
       "(9339, 64, 64, 3)"
      ]
     },
     "execution_count": 36,
     "metadata": {},
     "output_type": "execute_result"
    }
   ],
   "source": [
    "ds.shape"
   ]
  },
  {
   "cell_type": "code",
   "execution_count": 37,
   "metadata": {},
   "outputs": [
    {
     "data": {
      "text/plain": [
       "(9339, 25)"
      ]
     },
     "execution_count": 37,
     "metadata": {},
     "output_type": "execute_result"
    }
   ],
   "source": [
    "labels.shape"
   ]
  },
  {
   "cell_type": "code",
   "execution_count": 38,
   "metadata": {},
   "outputs": [],
   "source": [
    "classes = batches.class_indices.keys()"
   ]
  },
  {
   "cell_type": "code",
   "execution_count": 39,
   "metadata": {},
   "outputs": [],
   "source": [
    "perc = (sum(labels)/labels.shape[0])*100"
   ]
  },
  {
   "cell_type": "code",
   "execution_count": 40,
   "metadata": {},
   "outputs": [
    {
     "data": {
      "text/plain": [
       "<BarContainer object of 25 artists>"
      ]
     },
     "execution_count": 40,
     "metadata": {},
     "output_type": "execute_result"
    },
    {
     "data": {
      "image/png": "[encoded data removed]",
      "text/plain": [
       "<Figure size 432x288 with 1 Axes>"
      ]
     },
     "metadata": {
      "needs_background": "light"
     },
     "output_type": "display_data"
    }
   ],
   "source": [
    "plt.xticks(rotation='vertical')\n",
    "plt.bar(classes,perc)"
   ]
  },
  {
   "cell_type": "code",
   "execution_count": 41,
   "metadata": {},
   "outputs": [],
   "source": [
    "from sklearn.model_selection import train_test_split\n",
    "X_train, X_test, y_train, y_test = train_test_split(ds/255.,labels, test_size=0.3)"
   ]
  },
  {
   "cell_type": "code",
   "execution_count": 42,
   "metadata": {},
   "outputs": [
    {
     "data": {
      "text/plain": [
       "(6537, 64, 64, 3)"
      ]
     },
     "execution_count": 42,
     "metadata": {},
     "output_type": "execute_result"
    }
   ],
   "source": [
    "X_train.shape"
   ]
  },
  {
   "cell_type": "code",
   "execution_count": 43,
   "metadata": {},
   "outputs": [
    {
     "data": {
      "text/plain": [
       "(2802, 64, 64, 3)"
      ]
     },
     "execution_count": 43,
     "metadata": {},
     "output_type": "execute_result"
    }
   ],
   "source": [
    "X_test.shape"
   ]
  },
  {
   "cell_type": "code",
   "execution_count": 44,
   "metadata": {},
   "outputs": [],
   "source": [
    "model = Sequential()\n",
    "\n",
    "model.add(Conv2D(32,kernel_size = (3,3),padding = 'valid',activation = 'relu',input_shape = (64,64,3)))\n",
    "model.add(MaxPooling2D(pool_size = (2,2),strides = 2, padding = 'valid'))\n",
    "\n",
    "model.add(Conv2D(64,kernel_size = (3,3),padding = 'valid',activation = 'relu'))\n",
    "model.add(MaxPooling2D(pool_size = (2,2),strides = 2, padding = 'valid'))\n",
    "\n",
    "model.add(Conv2D(64,kernel_size = (3,3),padding = 'valid',activation = 'relu'))\n",
    "model.add(MaxPooling2D(pool_size = (2,2),strides = 2, padding = 'valid'))\n",
    "\n",
    "model.add(Flatten())\n",
    "\n",
    "model.add(Dense(128, activation = 'relu'))\n",
    "model.add(Dense(64,activation = 'relu'))\n",
    "model.add(Dense(25,activation = 'softmax'))"
   ]
  },
  {
   "cell_type": "code",
   "execution_count": 45,
   "metadata": {},
   "outputs": [
    {
     "name": "stdout",
     "output_type": "stream",
     "text": [
      "Model: \"sequential_1\"\n",
      "_________________________________________________________________\n",
      " Layer (type)                Output Shape              Param #   \n",
      "=================================================================\n",
      " conv2d_3 (Conv2D)           (None, 62, 62, 32)        896       \n",
      "                                                                 \n",
      " max_pooling2d_3 (MaxPooling  (None, 31, 31, 32)       0         \n",
      " 2D)                                                             \n",
      "                                                                 \n",
      " conv2d_4 (Conv2D)           (None, 29, 29, 64)        18496     \n",
      "                                                                 \n",
      " max_pooling2d_4 (MaxPooling  (None, 14, 14, 64)       0         \n",
      " 2D)                                                             \n",
      "                                                                 \n",
      " conv2d_5 (Conv2D)           (None, 12, 12, 64)        36928     \n",
      "                                                                 \n",
      " max_pooling2d_5 (MaxPooling  (None, 6, 6, 64)         0         \n",
      " 2D)                                                             \n",
      "                                                                 \n",
      " flatten_1 (Flatten)         (None, 2304)              0         \n",
      "                                                                 \n",
      " dense_3 (Dense)             (None, 128)               295040    \n",
      "                                                                 \n",
      " dense_4 (Dense)             (None, 64)                8256      \n",
      "                                                                 \n",
      " dense_5 (Dense)             (None, 25)                1625      \n",
      "                                                                 \n",
      "=================================================================\n",
      "Total params: 361,241\n",
      "Trainable params: 361,241\n",
      "Non-trainable params: 0\n",
      "_________________________________________________________________\n"
     ]
    }
   ],
   "source": [
    "model.summary()"
   ]
  },
  {
   "cell_type": "code",
   "execution_count": 46,
   "metadata": {},
   "outputs": [],
   "source": [
    "model.compile(optimizer = 'adam',loss = 'categorical_crossentropy',metrics = ['accuracy'])\n"
   ]
  },
  {
   "cell_type": "code",
   "execution_count": 47,
   "metadata": {},
   "outputs": [
    {
     "name": "stdout",
     "output_type": "stream",
     "text": [
      "Epoch 1/50\n",
      "205/205 [==============================] - 3s 15ms/step - loss: 1.5041 - accuracy: 0.5317 - val_loss: 0.6182 - val_accuracy: 0.7719\n",
      "Epoch 2/50\n",
      "205/205 [==============================] - 3s 15ms/step - loss: 0.4471 - accuracy: 0.8570 - val_loss: 0.3035 - val_accuracy: 0.9061\n",
      "Epoch 3/50\n",
      "205/205 [==============================] - 3s 15ms/step - loss: 0.2338 - accuracy: 0.9273 - val_loss: 0.2419 - val_accuracy: 0.9272\n",
      "Epoch 4/50\n",
      "205/205 [==============================] - 3s 15ms/step - loss: 0.1872 - accuracy: 0.9431 - val_loss: 0.2054 - val_accuracy: 0.9422\n",
      "Epoch 5/50\n",
      "205/205 [==============================] - 3s 15ms/step - loss: 0.1440 - accuracy: 0.9535 - val_loss: 0.2109 - val_accuracy: 0.9493\n",
      "Epoch 6/50\n",
      "205/205 [==============================] - 3s 15ms/step - loss: 0.1326 - accuracy: 0.9578 - val_loss: 0.2201 - val_accuracy: 0.9408\n",
      "Epoch 7/50\n",
      "205/205 [==============================] - 3s 15ms/step - loss: 0.1203 - accuracy: 0.9587 - val_loss: 0.1740 - val_accuracy: 0.9540\n",
      "Epoch 8/50\n",
      "205/205 [==============================] - 3s 15ms/step - loss: 0.1057 - accuracy: 0.9667 - val_loss: 0.1878 - val_accuracy: 0.9515\n",
      "Epoch 9/50\n",
      "205/205 [==============================] - 3s 15ms/step - loss: 0.0804 - accuracy: 0.9725 - val_loss: 0.1590 - val_accuracy: 0.9600\n",
      "Epoch 10/50\n",
      "205/205 [==============================] - 3s 15ms/step - loss: 0.0674 - accuracy: 0.9800 - val_loss: 0.1699 - val_accuracy: 0.9600\n",
      "Epoch 11/50\n",
      "205/205 [==============================] - 3s 15ms/step - loss: 0.0692 - accuracy: 0.9783 - val_loss: 0.1786 - val_accuracy: 0.9582\n",
      "Epoch 12/50\n",
      "205/205 [==============================] - 3s 15ms/step - loss: 0.0632 - accuracy: 0.9806 - val_loss: 0.1746 - val_accuracy: 0.9625\n",
      "Epoch 13/50\n",
      "205/205 [==============================] - 3s 15ms/step - loss: 0.0713 - accuracy: 0.9778 - val_loss: 0.1776 - val_accuracy: 0.9575\n",
      "Epoch 14/50\n",
      "205/205 [==============================] - 3s 15ms/step - loss: 0.0642 - accuracy: 0.9801 - val_loss: 0.1809 - val_accuracy: 0.9582\n",
      "Epoch 15/50\n",
      "205/205 [==============================] - 3s 15ms/step - loss: 0.0621 - accuracy: 0.9800 - val_loss: 0.1734 - val_accuracy: 0.9593\n",
      "Epoch 16/50\n",
      "205/205 [==============================] - 3s 15ms/step - loss: 0.0574 - accuracy: 0.9809 - val_loss: 0.1764 - val_accuracy: 0.9632\n",
      "Epoch 17/50\n",
      "205/205 [==============================] - 3s 15ms/step - loss: 0.0421 - accuracy: 0.9872 - val_loss: 0.1740 - val_accuracy: 0.9643\n",
      "Epoch 18/50\n",
      "205/205 [==============================] - 3s 15ms/step - loss: 0.0839 - accuracy: 0.9740 - val_loss: 0.1968 - val_accuracy: 0.9604\n",
      "Epoch 19/50\n",
      "205/205 [==============================] - 3s 15ms/step - loss: 0.0504 - accuracy: 0.9856 - val_loss: 0.2303 - val_accuracy: 0.9582\n",
      "Epoch 20/50\n",
      "205/205 [==============================] - 3s 15ms/step - loss: 0.0551 - accuracy: 0.9833 - val_loss: 0.1903 - val_accuracy: 0.9582\n",
      "Epoch 21/50\n",
      "205/205 [==============================] - 3s 15ms/step - loss: 0.0547 - accuracy: 0.9833 - val_loss: 0.1771 - val_accuracy: 0.9647\n",
      "Epoch 22/50\n",
      "205/205 [==============================] - 3s 15ms/step - loss: 0.0376 - accuracy: 0.9884 - val_loss: 0.1967 - val_accuracy: 0.9604\n",
      "Epoch 23/50\n",
      "205/205 [==============================] - 3s 15ms/step - loss: 0.0369 - accuracy: 0.9885 - val_loss: 0.1896 - val_accuracy: 0.9654\n",
      "Epoch 24/50\n",
      "205/205 [==============================] - 3s 15ms/step - loss: 0.0388 - accuracy: 0.9878 - val_loss: 0.2173 - val_accuracy: 0.9622\n",
      "Epoch 25/50\n",
      "205/205 [==============================] - 3s 15ms/step - loss: 0.0818 - accuracy: 0.9764 - val_loss: 0.2309 - val_accuracy: 0.9511\n",
      "Epoch 26/50\n",
      "205/205 [==============================] - 3s 15ms/step - loss: 0.0504 - accuracy: 0.9849 - val_loss: 0.2679 - val_accuracy: 0.9479\n",
      "Epoch 27/50\n",
      "205/205 [==============================] - 3s 15ms/step - loss: 0.0539 - accuracy: 0.9839 - val_loss: 0.1970 - val_accuracy: 0.9657\n",
      "Epoch 28/50\n",
      "205/205 [==============================] - 3s 15ms/step - loss: 0.0375 - accuracy: 0.9882 - val_loss: 0.2033 - val_accuracy: 0.9661\n",
      "Epoch 29/50\n",
      "205/205 [==============================] - 3s 15ms/step - loss: 0.0364 - accuracy: 0.9887 - val_loss: 0.2048 - val_accuracy: 0.9647\n",
      "Epoch 30/50\n",
      "205/205 [==============================] - 3s 15ms/step - loss: 0.0356 - accuracy: 0.9887 - val_loss: 0.2067 - val_accuracy: 0.9657\n",
      "Epoch 31/50\n",
      "205/205 [==============================] - 3s 15ms/step - loss: 0.0355 - accuracy: 0.9887 - val_loss: 0.2084 - val_accuracy: 0.9657\n",
      "Epoch 32/50\n",
      "205/205 [==============================] - 3s 15ms/step - loss: 0.0357 - accuracy: 0.9887 - val_loss: 0.2119 - val_accuracy: 0.9661\n",
      "Epoch 33/50\n",
      "205/205 [==============================] - 3s 15ms/step - loss: 0.0362 - accuracy: 0.9887 - val_loss: 0.2143 - val_accuracy: 0.9661\n",
      "Epoch 34/50\n",
      "205/205 [==============================] - 3s 15ms/step - loss: 0.0365 - accuracy: 0.9887 - val_loss: 0.2132 - val_accuracy: 0.9657\n",
      "Epoch 35/50\n",
      "205/205 [==============================] - 3s 15ms/step - loss: 0.0369 - accuracy: 0.9887 - val_loss: 0.2192 - val_accuracy: 0.9647\n",
      "Epoch 36/50\n",
      "205/205 [==============================] - 3s 15ms/step - loss: 0.0362 - accuracy: 0.9887 - val_loss: 0.2178 - val_accuracy: 0.9654\n",
      "Epoch 37/50\n",
      "205/205 [==============================] - 3s 15ms/step - loss: 0.0371 - accuracy: 0.9887 - val_loss: 0.2217 - val_accuracy: 0.9665\n",
      "Epoch 38/50\n",
      "205/205 [==============================] - 3s 15ms/step - loss: 0.0355 - accuracy: 0.9887 - val_loss: 0.2195 - val_accuracy: 0.9665\n",
      "Epoch 39/50\n",
      "205/205 [==============================] - 3s 15ms/step - loss: 0.0357 - accuracy: 0.9887 - val_loss: 0.2288 - val_accuracy: 0.9661\n",
      "Epoch 40/50\n",
      "205/205 [==============================] - 3s 15ms/step - loss: 0.0364 - accuracy: 0.9887 - val_loss: 0.2252 - val_accuracy: 0.9665\n",
      "Epoch 41/50\n",
      "205/205 [==============================] - 3s 15ms/step - loss: 0.0356 - accuracy: 0.9887 - val_loss: 0.2351 - val_accuracy: 0.9650\n",
      "Epoch 42/50\n",
      "205/205 [==============================] - 3s 15ms/step - loss: 0.0364 - accuracy: 0.9887 - val_loss: 0.2097 - val_accuracy: 0.9654\n",
      "Epoch 43/50\n",
      "205/205 [==============================] - 3s 15ms/step - loss: 0.0356 - accuracy: 0.9887 - val_loss: 0.2240 - val_accuracy: 0.9657\n",
      "Epoch 44/50\n",
      "205/205 [==============================] - 3s 15ms/step - loss: 0.1037 - accuracy: 0.9719 - val_loss: 0.1725 - val_accuracy: 0.9536\n",
      "Epoch 45/50\n",
      "205/205 [==============================] - 3s 15ms/step - loss: 0.0883 - accuracy: 0.9726 - val_loss: 0.2016 - val_accuracy: 0.9586\n",
      "Epoch 46/50\n",
      "205/205 [==============================] - 3s 15ms/step - loss: 0.0459 - accuracy: 0.9858 - val_loss: 0.2112 - val_accuracy: 0.9625\n",
      "Epoch 47/50\n",
      "205/205 [==============================] - 3s 15ms/step - loss: 0.0408 - accuracy: 0.9873 - val_loss: 0.2028 - val_accuracy: 0.9647\n",
      "Epoch 48/50\n",
      "205/205 [==============================] - 3s 15ms/step - loss: 0.0362 - accuracy: 0.9887 - val_loss: 0.2275 - val_accuracy: 0.9636\n",
      "Epoch 49/50\n",
      "205/205 [==============================] - 3s 15ms/step - loss: 0.0483 - accuracy: 0.9845 - val_loss: 0.2540 - val_accuracy: 0.9582\n",
      "Epoch 50/50\n",
      "205/205 [==============================] - 3s 15ms/step - loss: 0.0567 - accuracy: 0.9823 - val_loss: 0.1976 - val_accuracy: 0.9600\n"
     ]
    }
   ],
   "source": [
    "history = model.fit(X_train,y_train,validation_data = (X_test,y_test),epochs = 50)\n"
   ]
  },
  {
   "cell_type": "code",
   "execution_count": 48,
   "metadata": {},
   "outputs": [
    {
     "data": {
      "image/png": "[encoded data removed]",
      "text/plain": [
       "<Figure size 432x288 with 1 Axes>"
      ]
     },
     "metadata": {
      "needs_background": "light"
     },
     "output_type": "display_data"
    }
   ],
   "source": [
    "plt.plot(history.history['accuracy'],color = 'red', label = 'train')\n",
    "plt.plot(history.history['val_accuracy'],color = 'blue', label = 'validation')\n",
    "plt.legend()\n",
    "plt.show()"
   ]
  },
  {
   "cell_type": "code",
   "execution_count": 49,
   "metadata": {},
   "outputs": [
    {
     "data": {
      "image/png": "[encoded data removed]",
      "text/plain": [
       "<Figure size 432x288 with 1 Axes>"
      ]
     },
     "metadata": {
      "needs_background": "light"
     },
     "output_type": "display_data"
    }
   ],
   "source": [
    "plt.plot(history.history['loss'],color = 'red',label = 'train')\n",
    "plt.plot(history.history['val_loss'],color = 'blue',label = 'vaidation')\n",
    "plt.legend()\n",
    "plt.show()"
   ]
  },
  {
   "cell_type": "code",
   "execution_count": null,
   "metadata": {},
   "outputs": [],
   "source": []
  }
 ],
 "metadata": {
  "kernelspec": {
   "display_name": "Python 3 (ipykernel)",
   "language": "python",
   "name": "python3"
  },
  "language_info": {
   "codemirror_mode": {
    "name": "ipython",
    "version": 3
   },
   "file_extension": ".py",
   "mimetype": "text/x-python",
   "name": "python",
   "nbconvert_exporter": "python",
   "pygments_lexer": "ipython3",
   "version": "3.11.3"
  }
 },
 "nbformat": 4,
 "nbformat_minor": 4
}
