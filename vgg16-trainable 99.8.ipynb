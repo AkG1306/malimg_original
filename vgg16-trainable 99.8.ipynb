{
 "cells": [
  {
   "cell_type": "code",
   "execution_count": 2,
   "metadata": {},
   "outputs": [],
   "source": [
    "import sys\n",
    "import os\n",
    "from math import log\n",
    "import numpy as np\n",
    "import scipy as sp\n",
    "from PIL import Image\n",
    "import matplotlib.pyplot as plt\n",
    "from keras.preprocessing.image import ImageDataGenerator"
   ]
  },
  {
   "cell_type": "code",
   "execution_count": 3,
   "metadata": {},
   "outputs": [],
   "source": [
    "import tensorflow as tf\n",
    "from tensorflow import keras\n",
    "from keras import Sequential\n",
    "from keras.layers import Dense,Conv2D,MaxPooling2D,Flatten\n",
    "from keras.applications.vgg16 import VGG16"
   ]
  },
  {
   "cell_type": "code",
   "execution_count": 4,
   "metadata": {},
   "outputs": [],
   "source": [
    "path_root = 'malimg_data' "
   ]
  },
  {
   "cell_type": "code",
   "execution_count": 5,
   "metadata": {},
   "outputs": [
    {
     "name": "stdout",
     "output_type": "stream",
     "text": [
      "Found 9339 images belonging to 25 classes.\n"
     ]
    }
   ],
   "source": [
    "batches = ImageDataGenerator().flow_from_directory(directory=path_root, target_size=(64,64), batch_size=10000)"
   ]
  },
  {
   "cell_type": "code",
   "execution_count": 6,
   "metadata": {},
   "outputs": [
    {
     "data": {
      "text/plain": [
       "{'Adialer.C': 0,\n",
       " 'Agent.FYI': 1,\n",
       " 'Allaple.A': 2,\n",
       " 'Allaple.L': 3,\n",
       " 'Alueron.gen!J': 4,\n",
       " 'Autorun.K': 5,\n",
       " 'C2LOP.P': 6,\n",
       " 'C2LOP.gen!g': 7,\n",
       " 'Dialplatform.B': 8,\n",
       " 'Dontovo.A': 9,\n",
       " 'Fakerean': 10,\n",
       " 'Instantaccess': 11,\n",
       " 'Lolyda.AA1': 12,\n",
       " 'Lolyda.AA2': 13,\n",
       " 'Lolyda.AA3': 14,\n",
       " 'Lolyda.AT': 15,\n",
       " 'Malex.gen!J': 16,\n",
       " 'Obfuscator.AD': 17,\n",
       " 'Rbot!gen': 18,\n",
       " 'Skintrim.N': 19,\n",
       " 'Swizzor.gen!E': 20,\n",
       " 'Swizzor.gen!I': 21,\n",
       " 'VB.AT': 22,\n",
       " 'Wintrim.BX': 23,\n",
       " 'Yuner.A': 24}"
      ]
     },
     "execution_count": 6,
     "metadata": {},
     "output_type": "execute_result"
    }
   ],
   "source": [
    "batches.class_indices"
   ]
  },
  {
   "cell_type": "code",
   "execution_count": 7,
   "metadata": {},
   "outputs": [],
   "source": [
    "ds, labels = next(batches)"
   ]
  },
  {
   "cell_type": "code",
   "execution_count": 8,
   "metadata": {},
   "outputs": [
    {
     "data": {
      "text/plain": [
       "(9339, 64, 64, 3)"
      ]
     },
     "execution_count": 8,
     "metadata": {},
     "output_type": "execute_result"
    }
   ],
   "source": [
    "ds.shape"
   ]
  },
  {
   "cell_type": "code",
   "execution_count": 9,
   "metadata": {},
   "outputs": [
    {
     "data": {
      "text/plain": [
       "(9339, 25)"
      ]
     },
     "execution_count": 9,
     "metadata": {},
     "output_type": "execute_result"
    }
   ],
   "source": [
    "labels.shape"
   ]
  },
  {
   "cell_type": "code",
   "execution_count": 10,
   "metadata": {},
   "outputs": [],
   "source": [
    "classes = batches.class_indices.keys()"
   ]
  },
  {
   "cell_type": "code",
   "execution_count": 11,
   "metadata": {},
   "outputs": [],
   "source": [
    "perc = (sum(labels)/labels.shape[0])*100"
   ]
  },
  {
   "cell_type": "code",
   "execution_count": 12,
   "metadata": {},
   "outputs": [
    {
     "data": {
      "text/plain": [
       "<BarContainer object of 25 artists>"
      ]
     },
     "execution_count": 12,
     "metadata": {},
     "output_type": "execute_result"
    },
    {
     "data": {
      "image/png": "[encoded data removed]",
      "text/plain": [
       "<Figure size 432x288 with 1 Axes>"
      ]
     },
     "metadata": {
      "needs_background": "light"
     },
     "output_type": "display_data"
    }
   ],
   "source": [
    "plt.xticks(rotation='vertical')\n",
    "plt.bar(classes,perc)"
   ]
  },
  {
   "cell_type": "code",
   "execution_count": 13,
   "metadata": {},
   "outputs": [],
   "source": [
    "from sklearn.model_selection import train_test_split\n",
    "X_train, X_test, y_train, y_test = train_test_split(ds/255.,labels, test_size=0.3)"
   ]
  },
  {
   "cell_type": "code",
   "execution_count": 14,
   "metadata": {},
   "outputs": [
    {
     "data": {
      "text/plain": [
       "(6537, 64, 64, 3)"
      ]
     },
     "execution_count": 14,
     "metadata": {},
     "output_type": "execute_result"
    }
   ],
   "source": [
    "X_train.shape"
   ]
  },
  {
   "cell_type": "code",
   "execution_count": 15,
   "metadata": {},
   "outputs": [
    {
     "data": {
      "text/plain": [
       "(2802, 64, 64, 3)"
      ]
     },
     "execution_count": 15,
     "metadata": {},
     "output_type": "execute_result"
    }
   ],
   "source": [
    "X_test.shape"
   ]
  },
  {
   "cell_type": "code",
   "execution_count": 26,
   "metadata": {},
   "outputs": [],
   "source": [
    "conv_base = VGG16(\n",
    "    weights = 'vgg16_weights_tf_dim_ordering_tf_kernels_notop.h5',\n",
    "    include_top = False,\n",
    "    input_shape = (64,64,3)\n",
    ")"
   ]
  },
  {
   "cell_type": "code",
   "execution_count": 27,
   "metadata": {},
   "outputs": [
    {
     "name": "stdout",
     "output_type": "stream",
     "text": [
      "input_7 False\n",
      "block1_conv1 False\n",
      "block1_conv2 False\n",
      "block1_pool False\n",
      "block2_conv1 False\n",
      "block2_conv2 False\n",
      "block2_pool False\n",
      "block3_conv1 False\n",
      "block3_conv2 False\n",
      "block3_conv3 False\n",
      "block3_pool False\n",
      "block4_conv1 False\n",
      "block4_conv2 False\n",
      "block4_conv3 False\n",
      "block4_pool False\n",
      "block5_conv1 True\n",
      "block5_conv2 True\n",
      "block5_conv3 True\n",
      "block5_pool True\n"
     ]
    }
   ],
   "source": [
    "conv_base.trainable = True\n",
    "\n",
    "set_trainable = False\n",
    "\n",
    "for layer in conv_base.layers:\n",
    "    if layer.name =='block5_conv1':\n",
    "        set_trainable  = True\n",
    "    if set_trainable:\n",
    "        layer.trainable = True\n",
    "    else:\n",
    "        layer.trainable = False\n",
    "        \n",
    "for layer in conv_base.layers:\n",
    "    print(layer.name,layer.trainable)"
   ]
  },
  {
   "cell_type": "code",
   "execution_count": 28,
   "metadata": {},
   "outputs": [
    {
     "name": "stdout",
     "output_type": "stream",
     "text": [
      "Model: \"vgg16\"\n",
      "_________________________________________________________________\n",
      " Layer (type)                Output Shape              Param #   \n",
      "=================================================================\n",
      " input_7 (InputLayer)        [(None, 64, 64, 3)]       0         \n",
      "                                                                 \n",
      " block1_conv1 (Conv2D)       (None, 64, 64, 64)        1792      \n",
      "                                                                 \n",
      " block1_conv2 (Conv2D)       (None, 64, 64, 64)        36928     \n",
      "                                                                 \n",
      " block1_pool (MaxPooling2D)  (None, 32, 32, 64)        0         \n",
      "                                                                 \n",
      " block2_conv1 (Conv2D)       (None, 32, 32, 128)       73856     \n",
      "                                                                 \n",
      " block2_conv2 (Conv2D)       (None, 32, 32, 128)       147584    \n",
      "                                                                 \n",
      " block2_pool (MaxPooling2D)  (None, 16, 16, 128)       0         \n",
      "                                                                 \n",
      " block3_conv1 (Conv2D)       (None, 16, 16, 256)       295168    \n",
      "                                                                 \n",
      " block3_conv2 (Conv2D)       (None, 16, 16, 256)       590080    \n",
      "                                                                 \n",
      " block3_conv3 (Conv2D)       (None, 16, 16, 256)       590080    \n",
      "                                                                 \n",
      " block3_pool (MaxPooling2D)  (None, 8, 8, 256)         0         \n",
      "                                                                 \n",
      " block4_conv1 (Conv2D)       (None, 8, 8, 512)         1180160   \n",
      "                                                                 \n",
      " block4_conv2 (Conv2D)       (None, 8, 8, 512)         2359808   \n",
      "                                                                 \n",
      " block4_conv3 (Conv2D)       (None, 8, 8, 512)         2359808   \n",
      "                                                                 \n",
      " block4_pool (MaxPooling2D)  (None, 4, 4, 512)         0         \n",
      "                                                                 \n",
      " block5_conv1 (Conv2D)       (None, 4, 4, 512)         2359808   \n",
      "                                                                 \n",
      " block5_conv2 (Conv2D)       (None, 4, 4, 512)         2359808   \n",
      "                                                                 \n",
      " block5_conv3 (Conv2D)       (None, 4, 4, 512)         2359808   \n",
      "                                                                 \n",
      " block5_pool (MaxPooling2D)  (None, 2, 2, 512)         0         \n",
      "                                                                 \n",
      "=================================================================\n",
      "Total params: 14,714,688\n",
      "Trainable params: 7,079,424\n",
      "Non-trainable params: 7,635,264\n",
      "_________________________________________________________________\n"
     ]
    }
   ],
   "source": [
    "conv_base.summary()"
   ]
  },
  {
   "cell_type": "code",
   "execution_count": 29,
   "metadata": {},
   "outputs": [],
   "source": [
    "model = Sequential()\n",
    "\n",
    "model.add(conv_base)\n",
    "model.add(Flatten())\n",
    "model.add(Dense(128, activation = 'relu'))\n",
    "model.add(Dense(64,activation = 'relu'))\n",
    "model.add(Dense(25,activation = 'softmax'))"
   ]
  },
  {
   "cell_type": "code",
   "execution_count": 30,
   "metadata": {},
   "outputs": [
    {
     "name": "stdout",
     "output_type": "stream",
     "text": [
      "Model: \"sequential\"\n",
      "_________________________________________________________________\n",
      " Layer (type)                Output Shape              Param #   \n",
      "=================================================================\n",
      " vgg16 (Functional)          (None, 2, 2, 512)         14714688  \n",
      "                                                                 \n",
      " flatten (Flatten)           (None, 2048)              0         \n",
      "                                                                 \n",
      " dense (Dense)               (None, 128)               262272    \n",
      "                                                                 \n",
      " dense_1 (Dense)             (None, 64)                8256      \n",
      "                                                                 \n",
      " dense_2 (Dense)             (None, 25)                1625      \n",
      "                                                                 \n",
      "=================================================================\n",
      "Total params: 14,986,841\n",
      "Trainable params: 7,351,577\n",
      "Non-trainable params: 7,635,264\n",
      "_________________________________________________________________\n"
     ]
    }
   ],
   "source": [
    "model.summary()"
   ]
  },
  {
   "cell_type": "code",
   "execution_count": 33,
   "metadata": {},
   "outputs": [
    {
     "name": "stderr",
     "output_type": "stream",
     "text": [
      "/home/ssfv/anaconda3/lib/python3.7/site-packages/keras/optimizers/optimizer_v2/rmsprop.py:135: UserWarning: The `lr` argument is deprecated, use `learning_rate` instead.\n",
      "  super(RMSprop, self).__init__(name, **kwargs)\n"
     ]
    }
   ],
   "source": [
    "model.compile(optimizer = keras.optimizers.RMSprop(lr=1e-5),loss = 'categorical_crossentropy',metrics = ['accuracy'])\n"
   ]
  },
  {
   "cell_type": "code",
   "execution_count": 34,
   "metadata": {
    "scrolled": true
   },
   "outputs": [
    {
     "name": "stdout",
     "output_type": "stream",
     "text": [
      "Epoch 1/50\n",
      "205/205 [==============================] - 30s 144ms/step - loss: 1.4978 - accuracy: 0.6049 - val_loss: 0.8612 - val_accuracy: 0.7313\n",
      "Epoch 2/50\n",
      "205/205 [==============================] - 29s 144ms/step - loss: 0.6468 - accuracy: 0.8114 - val_loss: 0.5569 - val_accuracy: 0.7984\n",
      "Epoch 3/50\n",
      "205/205 [==============================] - 29s 141ms/step - loss: 0.4553 - accuracy: 0.8661 - val_loss: 0.3928 - val_accuracy: 0.8840\n",
      "Epoch 4/50\n",
      "205/205 [==============================] - 29s 143ms/step - loss: 0.3611 - accuracy: 0.8870 - val_loss: 0.3853 - val_accuracy: 0.8815\n",
      "Epoch 5/50\n",
      "205/205 [==============================] - 29s 141ms/step - loss: 0.3108 - accuracy: 0.9000 - val_loss: 0.3220 - val_accuracy: 0.8944\n",
      "Epoch 6/50\n",
      "205/205 [==============================] - 29s 142ms/step - loss: 0.2760 - accuracy: 0.9085 - val_loss: 0.2864 - val_accuracy: 0.9104\n",
      "Epoch 7/50\n",
      "205/205 [==============================] - 29s 141ms/step - loss: 0.2504 - accuracy: 0.9182 - val_loss: 0.3614 - val_accuracy: 0.8323\n",
      "Epoch 8/50\n",
      "205/205 [==============================] - 29s 141ms/step - loss: 0.2290 - accuracy: 0.9229 - val_loss: 0.3576 - val_accuracy: 0.8701\n",
      "Epoch 9/50\n",
      "205/205 [==============================] - 29s 142ms/step - loss: 0.2094 - accuracy: 0.9283 - val_loss: 0.2367 - val_accuracy: 0.9208\n",
      "Epoch 10/50\n",
      "205/205 [==============================] - 29s 142ms/step - loss: 0.1919 - accuracy: 0.9365 - val_loss: 0.2804 - val_accuracy: 0.9001\n",
      "Epoch 11/50\n",
      "205/205 [==============================] - 29s 141ms/step - loss: 0.1781 - accuracy: 0.9330 - val_loss: 0.2080 - val_accuracy: 0.9243\n",
      "Epoch 12/50\n",
      "205/205 [==============================] - 29s 141ms/step - loss: 0.1695 - accuracy: 0.9422 - val_loss: 0.4088 - val_accuracy: 0.8576\n",
      "Epoch 13/50\n",
      "205/205 [==============================] - 29s 142ms/step - loss: 0.1542 - accuracy: 0.9465 - val_loss: 0.2481 - val_accuracy: 0.9036\n",
      "Epoch 14/50\n",
      "205/205 [==============================] - 29s 144ms/step - loss: 0.1449 - accuracy: 0.9480 - val_loss: 0.2295 - val_accuracy: 0.9204\n",
      "Epoch 15/50\n",
      "205/205 [==============================] - 29s 143ms/step - loss: 0.1359 - accuracy: 0.9510 - val_loss: 0.2132 - val_accuracy: 0.9222\n",
      "Epoch 16/50\n",
      "205/205 [==============================] - 29s 143ms/step - loss: 0.1288 - accuracy: 0.9540 - val_loss: 0.1795 - val_accuracy: 0.9283\n",
      "Epoch 17/50\n",
      "205/205 [==============================] - 29s 139ms/step - loss: 0.1173 - accuracy: 0.9573 - val_loss: 0.1855 - val_accuracy: 0.9308\n",
      "Epoch 18/50\n",
      "205/205 [==============================] - 29s 143ms/step - loss: 0.1088 - accuracy: 0.9605 - val_loss: 0.1803 - val_accuracy: 0.9290\n",
      "Epoch 19/50\n",
      "205/205 [==============================] - 30s 149ms/step - loss: 0.1054 - accuracy: 0.9621 - val_loss: 0.1787 - val_accuracy: 0.9329\n",
      "Epoch 20/50\n",
      "205/205 [==============================] - 30s 149ms/step - loss: 0.0970 - accuracy: 0.9650 - val_loss: 0.1754 - val_accuracy: 0.9304\n",
      "Epoch 21/50\n",
      "205/205 [==============================] - 31s 149ms/step - loss: 0.0884 - accuracy: 0.9671 - val_loss: 0.2844 - val_accuracy: 0.9104\n",
      "Epoch 22/50\n",
      "205/205 [==============================] - 31s 151ms/step - loss: 0.0812 - accuracy: 0.9696 - val_loss: 0.1607 - val_accuracy: 0.9440\n",
      "Epoch 23/50\n",
      "205/205 [==============================] - 30s 148ms/step - loss: 0.0725 - accuracy: 0.9734 - val_loss: 0.2306 - val_accuracy: 0.9243\n",
      "Epoch 24/50\n",
      "205/205 [==============================] - 30s 149ms/step - loss: 0.0713 - accuracy: 0.9748 - val_loss: 0.1534 - val_accuracy: 0.9479\n",
      "Epoch 25/50\n",
      "205/205 [==============================] - 30s 149ms/step - loss: 0.0648 - accuracy: 0.9797 - val_loss: 0.2145 - val_accuracy: 0.9286\n",
      "Epoch 26/50\n",
      "205/205 [==============================] - 30s 149ms/step - loss: 0.0583 - accuracy: 0.9821 - val_loss: 0.1975 - val_accuracy: 0.9368\n",
      "Epoch 27/50\n",
      "205/205 [==============================] - 31s 149ms/step - loss: 0.0555 - accuracy: 0.9818 - val_loss: 0.1426 - val_accuracy: 0.9497\n",
      "Epoch 28/50\n",
      "205/205 [==============================] - 31s 150ms/step - loss: 0.0516 - accuracy: 0.9842 - val_loss: 0.1819 - val_accuracy: 0.9436\n",
      "Epoch 29/50\n",
      "205/205 [==============================] - 31s 152ms/step - loss: 0.0461 - accuracy: 0.9852 - val_loss: 0.1627 - val_accuracy: 0.9354\n",
      "Epoch 30/50\n",
      "205/205 [==============================] - 31s 153ms/step - loss: 0.0421 - accuracy: 0.9864 - val_loss: 0.1576 - val_accuracy: 0.9483\n",
      "Epoch 31/50\n",
      "205/205 [==============================] - 30s 149ms/step - loss: 0.0388 - accuracy: 0.9879 - val_loss: 0.1747 - val_accuracy: 0.9465\n",
      "Epoch 32/50\n",
      "205/205 [==============================] - 31s 149ms/step - loss: 0.0392 - accuracy: 0.9878 - val_loss: 0.1552 - val_accuracy: 0.9483\n",
      "Epoch 33/50\n",
      "205/205 [==============================] - 31s 150ms/step - loss: 0.0344 - accuracy: 0.9893 - val_loss: 0.1953 - val_accuracy: 0.9465\n",
      "Epoch 34/50\n",
      "205/205 [==============================] - 31s 149ms/step - loss: 0.0327 - accuracy: 0.9898 - val_loss: 0.1714 - val_accuracy: 0.9504\n",
      "Epoch 35/50\n",
      "205/205 [==============================] - 30s 149ms/step - loss: 0.0318 - accuracy: 0.9893 - val_loss: 0.1487 - val_accuracy: 0.9493\n",
      "Epoch 36/50\n",
      "205/205 [==============================] - 30s 148ms/step - loss: 0.0286 - accuracy: 0.9917 - val_loss: 0.1578 - val_accuracy: 0.9518\n",
      "Epoch 37/50\n",
      "205/205 [==============================] - 30s 149ms/step - loss: 0.0270 - accuracy: 0.9919 - val_loss: 0.1555 - val_accuracy: 0.9483\n",
      "Epoch 38/50\n",
      "205/205 [==============================] - 30s 148ms/step - loss: 0.0236 - accuracy: 0.9930 - val_loss: 0.1510 - val_accuracy: 0.9493\n",
      "Epoch 39/50\n",
      "205/205 [==============================] - 30s 148ms/step - loss: 0.0232 - accuracy: 0.9936 - val_loss: 0.2260 - val_accuracy: 0.9311\n",
      "Epoch 40/50\n",
      "205/205 [==============================] - 30s 148ms/step - loss: 0.0194 - accuracy: 0.9951 - val_loss: 0.1930 - val_accuracy: 0.9483\n",
      "Epoch 41/50\n",
      "205/205 [==============================] - 30s 147ms/step - loss: 0.0189 - accuracy: 0.9946 - val_loss: 0.1963 - val_accuracy: 0.9443\n",
      "Epoch 42/50\n",
      "205/205 [==============================] - 30s 148ms/step - loss: 0.0154 - accuracy: 0.9960 - val_loss: 0.1770 - val_accuracy: 0.9518\n",
      "Epoch 43/50\n",
      "205/205 [==============================] - 31s 149ms/step - loss: 0.0184 - accuracy: 0.9948 - val_loss: 0.2737 - val_accuracy: 0.9258\n",
      "Epoch 44/50\n",
      "205/205 [==============================] - 30s 148ms/step - loss: 0.0156 - accuracy: 0.9953 - val_loss: 0.1990 - val_accuracy: 0.9465\n",
      "Epoch 45/50\n",
      "205/205 [==============================] - 30s 148ms/step - loss: 0.0132 - accuracy: 0.9957 - val_loss: 0.1781 - val_accuracy: 0.9468\n",
      "Epoch 46/50\n",
      "205/205 [==============================] - 31s 150ms/step - loss: 0.0169 - accuracy: 0.9960 - val_loss: 0.2152 - val_accuracy: 0.9447\n",
      "Epoch 47/50\n",
      "205/205 [==============================] - 30s 145ms/step - loss: 0.0105 - accuracy: 0.9972 - val_loss: 0.2160 - val_accuracy: 0.9475\n",
      "Epoch 48/50\n",
      "205/205 [==============================] - 29s 143ms/step - loss: 0.0119 - accuracy: 0.9966 - val_loss: 0.1804 - val_accuracy: 0.9522\n",
      "Epoch 49/50\n",
      "205/205 [==============================] - 28s 139ms/step - loss: 0.0120 - accuracy: 0.9968 - val_loss: 0.1846 - val_accuracy: 0.9500\n",
      "Epoch 50/50\n",
      "205/205 [==============================] - 29s 142ms/step - loss: 0.0074 - accuracy: 0.9982 - val_loss: 0.1899 - val_accuracy: 0.9504\n"
     ]
    }
   ],
   "source": [
    "history = model.fit(X_train,y_train,validation_data = (X_test,y_test),epochs = 50)\n"
   ]
  },
  {
   "cell_type": "code",
   "execution_count": 35,
   "metadata": {},
   "outputs": [
    {
     "data": {
      "image/png": "[encoded data removed]",
      "text/plain": [
       "<Figure size 432x288 with 1 Axes>"
      ]
     },
     "metadata": {
      "needs_background": "light"
     },
     "output_type": "display_data"
    }
   ],
   "source": [
    "plt.plot(history.history['accuracy'],color = 'red', label = 'train')\n",
    "plt.plot(history.history['val_accuracy'],color = 'blue', label = 'validation')\n",
    "plt.legend()\n",
    "plt.show()"
   ]
  },
  {
   "cell_type": "code",
   "execution_count": 36,
   "metadata": {},
   "outputs": [
    {
     "data": {
      "image/png": "[encoded data removed]",
      "text/plain": [
       "<Figure size 432x288 with 1 Axes>"
      ]
     },
     "metadata": {
      "needs_background": "light"
     },
     "output_type": "display_data"
    }
   ],
   "source": [
    "plt.plot(history.history['loss'],color = 'red',label = 'train')\n",
    "plt.plot(history.history['val_loss'],color = 'blue',label = 'vaidation')\n",
    "plt.legend()\n",
    "plt.show()"
   ]
  },
  {
   "cell_type": "code",
   "execution_count": null,
   "metadata": {},
   "outputs": [],
   "source": []
  }
 ],
 "metadata": {
  "kernelspec": {
   "display_name": "Python 3",
   "language": "python",
   "name": "python3"
  },
  "language_info": {
   "codemirror_mode": {
    "name": "ipython",
    "version": 3
   },
   "file_extension": ".py",
   "mimetype": "text/x-python",
   "name": "python",
   "nbconvert_exporter": "python",
   "pygments_lexer": "ipython3",
   "version": "3.7.6"
  }
 },
 "nbformat": 4,
 "nbformat_minor": 4
}
