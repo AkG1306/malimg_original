{
 "cells": [
  {
   "cell_type": "code",
   "execution_count": 2,
   "metadata": {},
   "outputs": [],
   "source": [
    "import sys\n",
    "import os\n",
    "from math import log\n",
    "import numpy as np\n",
    "import scipy as sp\n",
    "from PIL import Image\n",
    "import matplotlib.pyplot as plt\n",
    "from keras.preprocessing.image import ImageDataGenerator"
   ]
  },
  {
   "cell_type": "code",
   "execution_count": 3,
   "metadata": {},
   "outputs": [],
   "source": [
    "import tensorflow as tf\n",
    "from tensorflow import keras\n",
    "from keras import Sequential\n",
    "from keras.layers import Dense,Conv2D,MaxPooling2D,Flatten"
   ]
  },
  {
   "cell_type": "code",
   "execution_count": 4,
   "metadata": {},
   "outputs": [],
   "source": [
    "path_root = 'malimg_data' "
   ]
  },
  {
   "cell_type": "code",
   "execution_count": 5,
   "metadata": {},
   "outputs": [
    {
     "name": "stdout",
     "output_type": "stream",
     "text": [
      "Found 9339 images belonging to 25 classes.\n"
     ]
    }
   ],
   "source": [
    "batches = ImageDataGenerator().flow_from_directory(directory=path_root, target_size=(64,64), batch_size=10000)"
   ]
  },
  {
   "cell_type": "code",
   "execution_count": 6,
   "metadata": {},
   "outputs": [
    {
     "data": {
      "text/plain": [
       "{'Adialer.C': 0,\n",
       " 'Agent.FYI': 1,\n",
       " 'Allaple.A': 2,\n",
       " 'Allaple.L': 3,\n",
       " 'Alueron.gen!J': 4,\n",
       " 'Autorun.K': 5,\n",
       " 'C2LOP.P': 6,\n",
       " 'C2LOP.gen!g': 7,\n",
       " 'Dialplatform.B': 8,\n",
       " 'Dontovo.A': 9,\n",
       " 'Fakerean': 10,\n",
       " 'Instantaccess': 11,\n",
       " 'Lolyda.AA1': 12,\n",
       " 'Lolyda.AA2': 13,\n",
       " 'Lolyda.AA3': 14,\n",
       " 'Lolyda.AT': 15,\n",
       " 'Malex.gen!J': 16,\n",
       " 'Obfuscator.AD': 17,\n",
       " 'Rbot!gen': 18,\n",
       " 'Skintrim.N': 19,\n",
       " 'Swizzor.gen!E': 20,\n",
       " 'Swizzor.gen!I': 21,\n",
       " 'VB.AT': 22,\n",
       " 'Wintrim.BX': 23,\n",
       " 'Yuner.A': 24}"
      ]
     },
     "execution_count": 6,
     "metadata": {},
     "output_type": "execute_result"
    }
   ],
   "source": [
    "batches.class_indices"
   ]
  },
  {
   "cell_type": "code",
   "execution_count": 7,
   "metadata": {},
   "outputs": [],
   "source": [
    "ds, labels = next(batches)"
   ]
  },
  {
   "cell_type": "code",
   "execution_count": 8,
   "metadata": {},
   "outputs": [
    {
     "data": {
      "text/plain": [
       "(9339, 64, 64, 3)"
      ]
     },
     "execution_count": 8,
     "metadata": {},
     "output_type": "execute_result"
    }
   ],
   "source": [
    "ds.shape"
   ]
  },
  {
   "cell_type": "code",
   "execution_count": 9,
   "metadata": {},
   "outputs": [
    {
     "data": {
      "text/plain": [
       "(9339, 25)"
      ]
     },
     "execution_count": 9,
     "metadata": {},
     "output_type": "execute_result"
    }
   ],
   "source": [
    "labels.shape"
   ]
  },
  {
   "cell_type": "code",
   "execution_count": 10,
   "metadata": {},
   "outputs": [],
   "source": [
    "classes = batches.class_indices.keys()"
   ]
  },
  {
   "cell_type": "code",
   "execution_count": 11,
   "metadata": {},
   "outputs": [],
   "source": [
    "perc = (sum(labels)/labels.shape[0])*100"
   ]
  },
  {
   "cell_type": "code",
   "execution_count": 12,
   "metadata": {},
   "outputs": [
    {
     "data": {
      "text/plain": [
       "<BarContainer object of 25 artists>"
      ]
     },
     "execution_count": 12,
     "metadata": {},
     "output_type": "execute_result"
    },
    {
     "data": {
      "image/png": "[encoded data removed]",
      "text/plain": [
       "<Figure size 432x288 with 1 Axes>"
      ]
     },
     "metadata": {
      "needs_background": "light"
     },
     "output_type": "display_data"
    }
   ],
   "source": [
    "plt.xticks(rotation='vertical')\n",
    "plt.bar(classes,perc)"
   ]
  },
  {
   "cell_type": "code",
   "execution_count": 13,
   "metadata": {},
   "outputs": [],
   "source": [
    "from sklearn.model_selection import train_test_split\n",
    "X_train, X_test, y_train, y_test = train_test_split(ds/255.,labels, test_size=0.3)"
   ]
  },
  {
   "cell_type": "code",
   "execution_count": 14,
   "metadata": {},
   "outputs": [
    {
     "data": {
      "text/plain": [
       "(6537, 64, 64, 3)"
      ]
     },
     "execution_count": 14,
     "metadata": {},
     "output_type": "execute_result"
    }
   ],
   "source": [
    "X_train.shape"
   ]
  },
  {
   "cell_type": "code",
   "execution_count": 15,
   "metadata": {},
   "outputs": [
    {
     "data": {
      "text/plain": [
       "(2802, 64, 64, 3)"
      ]
     },
     "execution_count": 15,
     "metadata": {},
     "output_type": "execute_result"
    }
   ],
   "source": [
    "X_test.shape"
   ]
  },
  {
   "cell_type": "code",
   "execution_count": 16,
   "metadata": {},
   "outputs": [],
   "source": [
    "model = Sequential()\n",
    "\n",
    "model.add(Conv2D(32,kernel_size = (3,3),padding = 'valid',activation = 'relu',input_shape = (64,64,3)))\n",
    "model.add(MaxPooling2D(pool_size = (2,2),strides = 2, padding = 'valid'))\n",
    "\n",
    "model.add(Conv2D(64,kernel_size = (3,3),padding = 'valid',activation = 'relu'))\n",
    "model.add(MaxPooling2D(pool_size = (2,2),strides = 2, padding = 'valid'))\n",
    "\n",
    "model.add(Conv2D(64,kernel_size = (3,3),padding = 'valid',activation = 'relu'))\n",
    "model.add(MaxPooling2D(pool_size = (2,2),strides = 2, padding = 'valid'))\n",
    "\n",
    "model.add(Conv2D(128,kernel_size = (3,3),padding = 'valid',activation = 'relu'))\n",
    "model.add(MaxPooling2D(pool_size = (2,2),strides = 2, padding = 'valid'))\n",
    "\n",
    "model.add(Flatten())\n",
    "\n",
    "model.add(Dense(256, activation = 'relu'))\n",
    "model.add(Dense(128, activation = 'relu'))\n",
    "model.add(Dense(64,activation = 'relu'))\n",
    "model.add(Dense(25,activation = 'softmax'))"
   ]
  },
  {
   "cell_type": "code",
   "execution_count": 17,
   "metadata": {},
   "outputs": [
    {
     "name": "stdout",
     "output_type": "stream",
     "text": [
      "Model: \"sequential\"\n",
      "_________________________________________________________________\n",
      " Layer (type)                Output Shape              Param #   \n",
      "=================================================================\n",
      " conv2d (Conv2D)             (None, 62, 62, 32)        896       \n",
      "                                                                 \n",
      " max_pooling2d (MaxPooling2D  (None, 31, 31, 32)       0         \n",
      " )                                                               \n",
      "                                                                 \n",
      " conv2d_1 (Conv2D)           (None, 29, 29, 64)        18496     \n",
      "                                                                 \n",
      " max_pooling2d_1 (MaxPooling  (None, 14, 14, 64)       0         \n",
      " 2D)                                                             \n",
      "                                                                 \n",
      " conv2d_2 (Conv2D)           (None, 12, 12, 64)        36928     \n",
      "                                                                 \n",
      " max_pooling2d_2 (MaxPooling  (None, 6, 6, 64)         0         \n",
      " 2D)                                                             \n",
      "                                                                 \n",
      " conv2d_3 (Conv2D)           (None, 4, 4, 128)         73856     \n",
      "                                                                 \n",
      " max_pooling2d_3 (MaxPooling  (None, 2, 2, 128)        0         \n",
      " 2D)                                                             \n",
      "                                                                 \n",
      " flatten (Flatten)           (None, 512)               0         \n",
      "                                                                 \n",
      " dense (Dense)               (None, 256)               131328    \n",
      "                                                                 \n",
      " dense_1 (Dense)             (None, 128)               32896     \n",
      "                                                                 \n",
      " dense_2 (Dense)             (None, 64)                8256      \n",
      "                                                                 \n",
      " dense_3 (Dense)             (None, 25)                1625      \n",
      "                                                                 \n",
      "=================================================================\n",
      "Total params: 304,281\n",
      "Trainable params: 304,281\n",
      "Non-trainable params: 0\n",
      "_________________________________________________________________\n"
     ]
    }
   ],
   "source": [
    "model.summary()"
   ]
  },
  {
   "cell_type": "code",
   "execution_count": 18,
   "metadata": {},
   "outputs": [],
   "source": [
    "model.compile(optimizer = 'adam',loss = 'categorical_crossentropy',metrics = ['accuracy'])\n"
   ]
  },
  {
   "cell_type": "code",
   "execution_count": 19,
   "metadata": {},
   "outputs": [
    {
     "name": "stdout",
     "output_type": "stream",
     "text": [
      "Epoch 1/50\n",
      "205/205 [==============================] - 6s 22ms/step - loss: 1.7602 - accuracy: 0.4595 - val_loss: 1.2595 - val_accuracy: 0.5625\n",
      "Epoch 2/50\n",
      "205/205 [==============================] - 4s 20ms/step - loss: 0.8805 - accuracy: 0.6687 - val_loss: 0.7154 - val_accuracy: 0.7231\n",
      "Epoch 3/50\n",
      "205/205 [==============================] - 4s 21ms/step - loss: 0.5781 - accuracy: 0.7970 - val_loss: 0.3013 - val_accuracy: 0.9033\n",
      "Epoch 4/50\n",
      "205/205 [==============================] - 4s 20ms/step - loss: 0.3201 - accuracy: 0.9065 - val_loss: 0.2352 - val_accuracy: 0.9336\n",
      "Epoch 5/50\n",
      "205/205 [==============================] - 4s 20ms/step - loss: 0.2557 - accuracy: 0.9211 - val_loss: 0.2237 - val_accuracy: 0.9300\n",
      "Epoch 6/50\n",
      "205/205 [==============================] - 4s 20ms/step - loss: 0.2083 - accuracy: 0.9354 - val_loss: 0.1907 - val_accuracy: 0.9486\n",
      "Epoch 7/50\n",
      "205/205 [==============================] - 4s 20ms/step - loss: 0.2018 - accuracy: 0.9356 - val_loss: 0.2105 - val_accuracy: 0.9336\n",
      "Epoch 8/50\n",
      "205/205 [==============================] - 4s 20ms/step - loss: 0.1676 - accuracy: 0.9512 - val_loss: 0.2313 - val_accuracy: 0.9368\n",
      "Epoch 9/50\n",
      "205/205 [==============================] - 4s 21ms/step - loss: 0.1481 - accuracy: 0.9533 - val_loss: 0.2102 - val_accuracy: 0.9265\n",
      "Epoch 10/50\n",
      "205/205 [==============================] - 4s 20ms/step - loss: 0.1580 - accuracy: 0.9503 - val_loss: 0.1905 - val_accuracy: 0.9386\n",
      "Epoch 11/50\n",
      "205/205 [==============================] - 4s 20ms/step - loss: 0.1268 - accuracy: 0.9602 - val_loss: 0.1711 - val_accuracy: 0.9486\n",
      "Epoch 12/50\n",
      "205/205 [==============================] - 4s 20ms/step - loss: 0.1111 - accuracy: 0.9644 - val_loss: 0.2448 - val_accuracy: 0.9397\n",
      "Epoch 13/50\n",
      "205/205 [==============================] - 4s 20ms/step - loss: 0.1135 - accuracy: 0.9651 - val_loss: 0.1437 - val_accuracy: 0.9532\n",
      "Epoch 14/50\n",
      "205/205 [==============================] - 4s 20ms/step - loss: 0.0814 - accuracy: 0.9715 - val_loss: 0.1259 - val_accuracy: 0.9600\n",
      "Epoch 15/50\n",
      "205/205 [==============================] - 4s 19ms/step - loss: 0.0790 - accuracy: 0.9754 - val_loss: 0.1534 - val_accuracy: 0.9582\n",
      "Epoch 16/50\n",
      "205/205 [==============================] - 4s 18ms/step - loss: 0.0964 - accuracy: 0.9670 - val_loss: 0.1418 - val_accuracy: 0.9600\n",
      "Epoch 17/50\n",
      "205/205 [==============================] - 4s 18ms/step - loss: 0.1188 - accuracy: 0.9642 - val_loss: 0.1552 - val_accuracy: 0.9525\n",
      "Epoch 18/50\n",
      "205/205 [==============================] - 4s 18ms/step - loss: 0.0747 - accuracy: 0.9748 - val_loss: 0.1458 - val_accuracy: 0.9607\n",
      "Epoch 19/50\n",
      "205/205 [==============================] - 4s 18ms/step - loss: 0.0969 - accuracy: 0.9693 - val_loss: 0.2758 - val_accuracy: 0.9350\n",
      "Epoch 20/50\n",
      "205/205 [==============================] - 4s 20ms/step - loss: 0.0693 - accuracy: 0.9784 - val_loss: 0.1284 - val_accuracy: 0.9632\n",
      "Epoch 21/50\n",
      "205/205 [==============================] - 4s 20ms/step - loss: 0.0576 - accuracy: 0.9809 - val_loss: 0.2378 - val_accuracy: 0.9461\n",
      "Epoch 22/50\n",
      "205/205 [==============================] - 4s 20ms/step - loss: 0.0663 - accuracy: 0.9787 - val_loss: 0.1500 - val_accuracy: 0.9636\n",
      "Epoch 23/50\n",
      "205/205 [==============================] - 4s 20ms/step - loss: 0.0570 - accuracy: 0.9816 - val_loss: 0.1327 - val_accuracy: 0.9661\n",
      "Epoch 24/50\n",
      "205/205 [==============================] - 4s 20ms/step - loss: 0.0492 - accuracy: 0.9844 - val_loss: 0.1594 - val_accuracy: 0.9625\n",
      "Epoch 25/50\n",
      "205/205 [==============================] - 4s 20ms/step - loss: 0.0526 - accuracy: 0.9841 - val_loss: 0.1493 - val_accuracy: 0.9629\n",
      "Epoch 26/50\n",
      "205/205 [==============================] - 4s 20ms/step - loss: 0.0803 - accuracy: 0.9761 - val_loss: 0.1306 - val_accuracy: 0.9679\n",
      "Epoch 27/50\n",
      "205/205 [==============================] - 4s 20ms/step - loss: 0.0622 - accuracy: 0.9819 - val_loss: 0.1479 - val_accuracy: 0.9604\n",
      "Epoch 28/50\n",
      "205/205 [==============================] - 4s 21ms/step - loss: 0.0585 - accuracy: 0.9816 - val_loss: 0.1564 - val_accuracy: 0.9636\n",
      "Epoch 29/50\n",
      "205/205 [==============================] - 4s 20ms/step - loss: 0.0708 - accuracy: 0.9780 - val_loss: 0.2089 - val_accuracy: 0.9500\n",
      "Epoch 30/50\n",
      "205/205 [==============================] - 4s 20ms/step - loss: 0.0659 - accuracy: 0.9793 - val_loss: 0.2287 - val_accuracy: 0.9490\n",
      "Epoch 31/50\n",
      "205/205 [==============================] - 4s 20ms/step - loss: 0.0588 - accuracy: 0.9819 - val_loss: 0.1505 - val_accuracy: 0.9640\n",
      "Epoch 32/50\n",
      "205/205 [==============================] - 4s 20ms/step - loss: 0.0677 - accuracy: 0.9793 - val_loss: 0.1470 - val_accuracy: 0.9650\n",
      "Epoch 33/50\n",
      "205/205 [==============================] - 4s 20ms/step - loss: 0.0615 - accuracy: 0.9807 - val_loss: 0.1239 - val_accuracy: 0.9686\n",
      "Epoch 34/50\n",
      "205/205 [==============================] - 4s 20ms/step - loss: 0.0485 - accuracy: 0.9850 - val_loss: 0.1432 - val_accuracy: 0.9679\n",
      "Epoch 35/50\n",
      "205/205 [==============================] - 4s 20ms/step - loss: 0.0389 - accuracy: 0.9879 - val_loss: 0.1565 - val_accuracy: 0.9707\n",
      "Epoch 36/50\n",
      "205/205 [==============================] - 4s 21ms/step - loss: 0.0381 - accuracy: 0.9881 - val_loss: 0.1570 - val_accuracy: 0.9700\n",
      "Epoch 37/50\n",
      "205/205 [==============================] - 4s 20ms/step - loss: 0.0373 - accuracy: 0.9881 - val_loss: 0.1605 - val_accuracy: 0.9697\n",
      "Epoch 38/50\n",
      "205/205 [==============================] - 4s 20ms/step - loss: 0.0373 - accuracy: 0.9881 - val_loss: 0.1681 - val_accuracy: 0.9693\n",
      "Epoch 39/50\n",
      "205/205 [==============================] - 4s 20ms/step - loss: 0.0380 - accuracy: 0.9881 - val_loss: 0.1726 - val_accuracy: 0.9693\n",
      "Epoch 40/50\n",
      "205/205 [==============================] - 4s 20ms/step - loss: 0.0374 - accuracy: 0.9881 - val_loss: 0.1748 - val_accuracy: 0.9693\n",
      "Epoch 41/50\n",
      "205/205 [==============================] - 4s 20ms/step - loss: 0.0378 - accuracy: 0.9881 - val_loss: 0.1830 - val_accuracy: 0.9693\n",
      "Epoch 42/50\n",
      "205/205 [==============================] - 4s 21ms/step - loss: 0.0373 - accuracy: 0.9881 - val_loss: 0.1907 - val_accuracy: 0.9697\n",
      "Epoch 43/50\n",
      "205/205 [==============================] - 4s 20ms/step - loss: 0.0369 - accuracy: 0.9881 - val_loss: 0.1936 - val_accuracy: 0.9697\n",
      "Epoch 44/50\n",
      "205/205 [==============================] - 4s 21ms/step - loss: 0.0374 - accuracy: 0.9881 - val_loss: 0.1951 - val_accuracy: 0.9697\n",
      "Epoch 45/50\n",
      "205/205 [==============================] - 4s 20ms/step - loss: 0.0370 - accuracy: 0.9881 - val_loss: 0.1949 - val_accuracy: 0.9707\n",
      "Epoch 46/50\n",
      "205/205 [==============================] - 4s 20ms/step - loss: 0.0379 - accuracy: 0.9881 - val_loss: 0.1902 - val_accuracy: 0.9704\n",
      "Epoch 47/50\n",
      "205/205 [==============================] - 4s 21ms/step - loss: 0.0372 - accuracy: 0.9881 - val_loss: 0.2038 - val_accuracy: 0.9707\n",
      "Epoch 48/50\n",
      "205/205 [==============================] - 4s 20ms/step - loss: 0.0371 - accuracy: 0.9881 - val_loss: 0.2050 - val_accuracy: 0.9704\n",
      "Epoch 49/50\n",
      "205/205 [==============================] - 4s 21ms/step - loss: 0.0376 - accuracy: 0.9881 - val_loss: 0.1982 - val_accuracy: 0.9700\n",
      "Epoch 50/50\n",
      "205/205 [==============================] - 4s 20ms/step - loss: 0.0374 - accuracy: 0.9881 - val_loss: 0.2041 - val_accuracy: 0.9700\n"
     ]
    }
   ],
   "source": [
    "history = model.fit(X_train,y_train,validation_data = (X_test,y_test),epochs = 50)\n"
   ]
  },
  {
   "cell_type": "code",
   "execution_count": 20,
   "metadata": {},
   "outputs": [
    {
     "data": {
      "image/png": "[encoded data removed]",
      "text/plain": [
       "<Figure size 432x288 with 1 Axes>"
      ]
     },
     "metadata": {
      "needs_background": "light"
     },
     "output_type": "display_data"
    }
   ],
   "source": [
    "plt.plot(history.history['accuracy'],color = 'red', label = 'train')\n",
    "plt.plot(history.history['val_accuracy'],color = 'blue', label = 'validation')\n",
    "plt.legend()\n",
    "plt.show()"
   ]
  },
  {
   "cell_type": "code",
   "execution_count": 21,
   "metadata": {},
   "outputs": [
    {
     "data": {
      "image/png": "[encoded data removed]",
      "text/plain": [
       "<Figure size 432x288 with 1 Axes>"
      ]
     },
     "metadata": {
      "needs_background": "light"
     },
     "output_type": "display_data"
    }
   ],
   "source": [
    "plt.plot(history.history['loss'],color = 'red',label = 'train')\n",
    "plt.plot(history.history['val_loss'],color = 'blue',label = 'vaidation')\n",
    "plt.legend()\n",
    "plt.show()"
   ]
  },
  {
   "cell_type": "code",
   "execution_count": null,
   "metadata": {},
   "outputs": [],
   "source": []
  }
 ],
 "metadata": {
  "kernelspec": {
   "display_name": "Python 3",
   "language": "python",
   "name": "python3"
  },
  "language_info": {
   "codemirror_mode": {
    "name": "ipython",
    "version": 3
   },
   "file_extension": ".py",
   "mimetype": "text/x-python",
   "name": "python",
   "nbconvert_exporter": "python",
   "pygments_lexer": "ipython3",
   "version": "3.7.6"
  }
 },
 "nbformat": 4,
 "nbformat_minor": 4
}
