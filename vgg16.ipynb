{
 "cells": [
  {
   "cell_type": "code",
   "execution_count": 1,
   "metadata": {},
   "outputs": [],
   "source": [
    "import sys\n",
    "import os\n",
    "from math import log\n",
    "import numpy as np\n",
    "import scipy as sp\n",
    "from PIL import Image\n",
    "import matplotlib.pyplot as plt\n",
    "from keras.preprocessing.image import ImageDataGenerator"
   ]
  },
  {
   "cell_type": "code",
   "execution_count": 2,
   "metadata": {},
   "outputs": [],
   "source": [
    "import tensorflow as tf\n",
    "from tensorflow import keras\n",
    "from keras import Sequential\n",
    "from keras.layers import Dense,Conv2D,MaxPooling2D,Flatten\n",
    "from keras.applications.vgg16 import VGG16"
   ]
  },
  {
   "cell_type": "code",
   "execution_count": 3,
   "metadata": {},
   "outputs": [],
   "source": [
    "path_root = 'malimg_data' "
   ]
  },
  {
   "cell_type": "code",
   "execution_count": 4,
   "metadata": {},
   "outputs": [
    {
     "name": "stdout",
     "output_type": "stream",
     "text": [
      "Found 9339 images belonging to 25 classes.\n"
     ]
    }
   ],
   "source": [
    "batches = ImageDataGenerator().flow_from_directory(directory=path_root, target_size=(64,64), batch_size=10000)"
   ]
  },
  {
   "cell_type": "code",
   "execution_count": 5,
   "metadata": {},
   "outputs": [
    {
     "data": {
      "text/plain": [
       "{'Adialer.C': 0,\n",
       " 'Agent.FYI': 1,\n",
       " 'Allaple.A': 2,\n",
       " 'Allaple.L': 3,\n",
       " 'Alueron.gen!J': 4,\n",
       " 'Autorun.K': 5,\n",
       " 'C2LOP.P': 6,\n",
       " 'C2LOP.gen!g': 7,\n",
       " 'Dialplatform.B': 8,\n",
       " 'Dontovo.A': 9,\n",
       " 'Fakerean': 10,\n",
       " 'Instantaccess': 11,\n",
       " 'Lolyda.AA1': 12,\n",
       " 'Lolyda.AA2': 13,\n",
       " 'Lolyda.AA3': 14,\n",
       " 'Lolyda.AT': 15,\n",
       " 'Malex.gen!J': 16,\n",
       " 'Obfuscator.AD': 17,\n",
       " 'Rbot!gen': 18,\n",
       " 'Skintrim.N': 19,\n",
       " 'Swizzor.gen!E': 20,\n",
       " 'Swizzor.gen!I': 21,\n",
       " 'VB.AT': 22,\n",
       " 'Wintrim.BX': 23,\n",
       " 'Yuner.A': 24}"
      ]
     },
     "execution_count": 5,
     "metadata": {},
     "output_type": "execute_result"
    }
   ],
   "source": [
    "batches.class_indices"
   ]
  },
  {
   "cell_type": "code",
   "execution_count": 6,
   "metadata": {},
   "outputs": [],
   "source": [
    "ds, labels = next(batches)"
   ]
  },
  {
   "cell_type": "code",
   "execution_count": 7,
   "metadata": {},
   "outputs": [
    {
     "data": {
      "text/plain": [
       "(9339, 64, 64, 3)"
      ]
     },
     "execution_count": 7,
     "metadata": {},
     "output_type": "execute_result"
    }
   ],
   "source": [
    "ds.shape"
   ]
  },
  {
   "cell_type": "code",
   "execution_count": 8,
   "metadata": {},
   "outputs": [
    {
     "data": {
      "text/plain": [
       "(9339, 25)"
      ]
     },
     "execution_count": 8,
     "metadata": {},
     "output_type": "execute_result"
    }
   ],
   "source": [
    "labels.shape"
   ]
  },
  {
   "cell_type": "code",
   "execution_count": 9,
   "metadata": {},
   "outputs": [],
   "source": [
    "classes = batches.class_indices.keys()"
   ]
  },
  {
   "cell_type": "code",
   "execution_count": 10,
   "metadata": {},
   "outputs": [],
   "source": [
    "perc = (sum(labels)/labels.shape[0])*100"
   ]
  },
  {
   "cell_type": "code",
   "execution_count": 11,
   "metadata": {},
   "outputs": [
    {
     "data": {
      "text/plain": [
       "<BarContainer object of 25 artists>"
      ]
     },
     "execution_count": 11,
     "metadata": {},
     "output_type": "execute_result"
    },
    {
     "data": {
      "image/png": "[encoded data removed]",
      "text/plain": [
       "<Figure size 432x288 with 1 Axes>"
      ]
     },
     "metadata": {
      "needs_background": "light"
     },
     "output_type": "display_data"
    }
   ],
   "source": [
    "plt.xticks(rotation='vertical')\n",
    "plt.bar(classes,perc)"
   ]
  },
  {
   "cell_type": "code",
   "execution_count": 12,
   "metadata": {},
   "outputs": [],
   "source": [
    "from sklearn.model_selection import train_test_split\n",
    "X_train, X_test, y_train, y_test = train_test_split(ds/255.,labels, test_size=0.3)"
   ]
  },
  {
   "cell_type": "code",
   "execution_count": 13,
   "metadata": {},
   "outputs": [
    {
     "data": {
      "text/plain": [
       "(6537, 64, 64, 3)"
      ]
     },
     "execution_count": 13,
     "metadata": {},
     "output_type": "execute_result"
    }
   ],
   "source": [
    "X_train.shape"
   ]
  },
  {
   "cell_type": "code",
   "execution_count": 14,
   "metadata": {},
   "outputs": [
    {
     "data": {
      "text/plain": [
       "(2802, 64, 64, 3)"
      ]
     },
     "execution_count": 14,
     "metadata": {},
     "output_type": "execute_result"
    }
   ],
   "source": [
    "X_test.shape"
   ]
  },
  {
   "cell_type": "code",
   "execution_count": 19,
   "metadata": {},
   "outputs": [],
   "source": [
    "conv_base = VGG16(\n",
    "    weights = 'vgg16_weights_tf_dim_ordering_tf_kernels_notop.h5',\n",
    "    include_top = False,\n",
    "    input_shape = (64,64,3)\n",
    ")"
   ]
  },
  {
   "cell_type": "code",
   "execution_count": 20,
   "metadata": {},
   "outputs": [
    {
     "name": "stdout",
     "output_type": "stream",
     "text": [
      "Model: \"vgg16\"\n",
      "_________________________________________________________________\n",
      " Layer (type)                Output Shape              Param #   \n",
      "=================================================================\n",
      " input_2 (InputLayer)        [(None, 64, 64, 3)]       0         \n",
      "                                                                 \n",
      " block1_conv1 (Conv2D)       (None, 64, 64, 64)        1792      \n",
      "                                                                 \n",
      " block1_conv2 (Conv2D)       (None, 64, 64, 64)        36928     \n",
      "                                                                 \n",
      " block1_pool (MaxPooling2D)  (None, 32, 32, 64)        0         \n",
      "                                                                 \n",
      " block2_conv1 (Conv2D)       (None, 32, 32, 128)       73856     \n",
      "                                                                 \n",
      " block2_conv2 (Conv2D)       (None, 32, 32, 128)       147584    \n",
      "                                                                 \n",
      " block2_pool (MaxPooling2D)  (None, 16, 16, 128)       0         \n",
      "                                                                 \n",
      " block3_conv1 (Conv2D)       (None, 16, 16, 256)       295168    \n",
      "                                                                 \n",
      " block3_conv2 (Conv2D)       (None, 16, 16, 256)       590080    \n",
      "                                                                 \n",
      " block3_conv3 (Conv2D)       (None, 16, 16, 256)       590080    \n",
      "                                                                 \n",
      " block3_pool (MaxPooling2D)  (None, 8, 8, 256)         0         \n",
      "                                                                 \n",
      " block4_conv1 (Conv2D)       (None, 8, 8, 512)         1180160   \n",
      "                                                                 \n",
      " block4_conv2 (Conv2D)       (None, 8, 8, 512)         2359808   \n",
      "                                                                 \n",
      " block4_conv3 (Conv2D)       (None, 8, 8, 512)         2359808   \n",
      "                                                                 \n",
      " block4_pool (MaxPooling2D)  (None, 4, 4, 512)         0         \n",
      "                                                                 \n",
      " block5_conv1 (Conv2D)       (None, 4, 4, 512)         2359808   \n",
      "                                                                 \n",
      " block5_conv2 (Conv2D)       (None, 4, 4, 512)         2359808   \n",
      "                                                                 \n",
      " block5_conv3 (Conv2D)       (None, 4, 4, 512)         2359808   \n",
      "                                                                 \n",
      " block5_pool (MaxPooling2D)  (None, 2, 2, 512)         0         \n",
      "                                                                 \n",
      "=================================================================\n",
      "Total params: 14,714,688\n",
      "Trainable params: 14,714,688\n",
      "Non-trainable params: 0\n",
      "_________________________________________________________________\n"
     ]
    }
   ],
   "source": [
    "conv_base.summary()"
   ]
  },
  {
   "cell_type": "code",
   "execution_count": 22,
   "metadata": {},
   "outputs": [],
   "source": [
    "model = Sequential()\n",
    "\n",
    "model.add(conv_base)\n",
    "model.add(Flatten())\n",
    "model.add(Dense(128, activation = 'relu'))\n",
    "model.add(Dense(64,activation = 'relu'))\n",
    "model.add(Dense(25,activation = 'softmax'))"
   ]
  },
  {
   "cell_type": "code",
   "execution_count": 25,
   "metadata": {},
   "outputs": [
    {
     "name": "stdout",
     "output_type": "stream",
     "text": [
      "Model: \"sequential\"\n",
      "_________________________________________________________________\n",
      " Layer (type)                Output Shape              Param #   \n",
      "=================================================================\n",
      " vgg16 (Functional)          (None, 2, 2, 512)         14714688  \n",
      "                                                                 \n",
      " flatten (Flatten)           (None, 2048)              0         \n",
      "                                                                 \n",
      " dense (Dense)               (None, 128)               262272    \n",
      "                                                                 \n",
      " dense_1 (Dense)             (None, 64)                8256      \n",
      "                                                                 \n",
      " dense_2 (Dense)             (None, 25)                1625      \n",
      "                                                                 \n",
      "=================================================================\n",
      "Total params: 14,986,841\n",
      "Trainable params: 272,153\n",
      "Non-trainable params: 14,714,688\n",
      "_________________________________________________________________\n"
     ]
    }
   ],
   "source": [
    "model.summary()"
   ]
  },
  {
   "cell_type": "code",
   "execution_count": 24,
   "metadata": {},
   "outputs": [],
   "source": [
    "conv_base.trainable = False"
   ]
  },
  {
   "cell_type": "code",
   "execution_count": 28,
   "metadata": {},
   "outputs": [],
   "source": [
    "model.compile(optimizer = 'adam',loss = 'categorical_crossentropy',metrics = ['accuracy'])\n"
   ]
  },
  {
   "cell_type": "code",
   "execution_count": 29,
   "metadata": {
    "scrolled": true
   },
   "outputs": [
    {
     "name": "stdout",
     "output_type": "stream",
     "text": [
      "Epoch 1/50\n",
      "205/205 [==============================] - 28s 133ms/step - loss: 1.1467 - accuracy: 0.6326 - val_loss: 0.6765 - val_accuracy: 0.7662\n",
      "Epoch 2/50\n",
      "205/205 [==============================] - 27s 132ms/step - loss: 0.5784 - accuracy: 0.7895 - val_loss: 0.5259 - val_accuracy: 0.8019\n",
      "Epoch 3/50\n",
      "205/205 [==============================] - 27s 132ms/step - loss: 0.4711 - accuracy: 0.8227 - val_loss: 0.4953 - val_accuracy: 0.8044\n",
      "Epoch 4/50\n",
      "205/205 [==============================] - 28s 136ms/step - loss: 0.4152 - accuracy: 0.8473 - val_loss: 0.4588 - val_accuracy: 0.8123\n",
      "Epoch 5/50\n",
      "205/205 [==============================] - 28s 136ms/step - loss: 0.3809 - accuracy: 0.8600 - val_loss: 0.4266 - val_accuracy: 0.8344\n",
      "Epoch 6/50\n",
      "205/205 [==============================] - 28s 135ms/step - loss: 0.3557 - accuracy: 0.8626 - val_loss: 0.3898 - val_accuracy: 0.8512\n",
      "Epoch 7/50\n",
      "205/205 [==============================] - 28s 135ms/step - loss: 0.3350 - accuracy: 0.8736 - val_loss: 0.3590 - val_accuracy: 0.8680\n",
      "Epoch 8/50\n",
      "205/205 [==============================] - 28s 136ms/step - loss: 0.3110 - accuracy: 0.8810 - val_loss: 0.4096 - val_accuracy: 0.8530\n",
      "Epoch 9/50\n",
      "205/205 [==============================] - 28s 136ms/step - loss: 0.3053 - accuracy: 0.8850 - val_loss: 0.3450 - val_accuracy: 0.8747\n",
      "Epoch 10/50\n",
      "205/205 [==============================] - 27s 134ms/step - loss: 0.2958 - accuracy: 0.8896 - val_loss: 0.4273 - val_accuracy: 0.8276\n",
      "Epoch 11/50\n",
      "205/205 [==============================] - 26s 127ms/step - loss: 0.2828 - accuracy: 0.8917 - val_loss: 0.3867 - val_accuracy: 0.8640\n",
      "Epoch 12/50\n",
      "205/205 [==============================] - 27s 131ms/step - loss: 0.2923 - accuracy: 0.8871 - val_loss: 0.3270 - val_accuracy: 0.8751\n",
      "Epoch 13/50\n",
      "205/205 [==============================] - 27s 134ms/step - loss: 0.2788 - accuracy: 0.8918 - val_loss: 0.3152 - val_accuracy: 0.8837\n",
      "Epoch 14/50\n",
      "205/205 [==============================] - 27s 131ms/step - loss: 0.2404 - accuracy: 0.9101 - val_loss: 0.3694 - val_accuracy: 0.8680\n",
      "Epoch 15/50\n",
      "205/205 [==============================] - 28s 136ms/step - loss: 0.2432 - accuracy: 0.9065 - val_loss: 0.3532 - val_accuracy: 0.8737\n",
      "Epoch 16/50\n",
      "205/205 [==============================] - 27s 132ms/step - loss: 0.2358 - accuracy: 0.9107 - val_loss: 0.3094 - val_accuracy: 0.8822\n",
      "Epoch 17/50\n",
      "205/205 [==============================] - 27s 132ms/step - loss: 0.2312 - accuracy: 0.9110 - val_loss: 0.3066 - val_accuracy: 0.8940\n",
      "Epoch 18/50\n",
      "205/205 [==============================] - 28s 136ms/step - loss: 0.2282 - accuracy: 0.9090 - val_loss: 0.2903 - val_accuracy: 0.8983\n",
      "Epoch 19/50\n",
      "205/205 [==============================] - 28s 136ms/step - loss: 0.2168 - accuracy: 0.9125 - val_loss: 0.3105 - val_accuracy: 0.8833\n",
      "Epoch 20/50\n",
      "205/205 [==============================] - 28s 136ms/step - loss: 0.2190 - accuracy: 0.9122 - val_loss: 0.3557 - val_accuracy: 0.8558\n",
      "Epoch 21/50\n",
      "205/205 [==============================] - 28s 135ms/step - loss: 0.2146 - accuracy: 0.9151 - val_loss: 0.3147 - val_accuracy: 0.8833\n",
      "Epoch 22/50\n",
      "205/205 [==============================] - 28s 135ms/step - loss: 0.2141 - accuracy: 0.9113 - val_loss: 0.3204 - val_accuracy: 0.9004\n",
      "Epoch 23/50\n",
      "205/205 [==============================] - 28s 135ms/step - loss: 0.1996 - accuracy: 0.9218 - val_loss: 0.3052 - val_accuracy: 0.8911\n",
      "Epoch 24/50\n",
      "205/205 [==============================] - 28s 135ms/step - loss: 0.1974 - accuracy: 0.9244 - val_loss: 0.3512 - val_accuracy: 0.8637\n",
      "Epoch 25/50\n",
      "205/205 [==============================] - 28s 135ms/step - loss: 0.1916 - accuracy: 0.9247 - val_loss: 0.2857 - val_accuracy: 0.9140\n",
      "Epoch 26/50\n",
      "205/205 [==============================] - 28s 135ms/step - loss: 0.1892 - accuracy: 0.9235 - val_loss: 0.2928 - val_accuracy: 0.9001\n",
      "Epoch 27/50\n",
      "205/205 [==============================] - 28s 135ms/step - loss: 0.1777 - accuracy: 0.9318 - val_loss: 0.2929 - val_accuracy: 0.9022\n",
      "Epoch 28/50\n",
      "205/205 [==============================] - 28s 136ms/step - loss: 0.1638 - accuracy: 0.9351 - val_loss: 0.3071 - val_accuracy: 0.8915\n",
      "Epoch 29/50\n",
      "205/205 [==============================] - 28s 136ms/step - loss: 0.1869 - accuracy: 0.9243 - val_loss: 0.2860 - val_accuracy: 0.9022\n",
      "Epoch 30/50\n",
      "205/205 [==============================] - 28s 135ms/step - loss: 0.1673 - accuracy: 0.9348 - val_loss: 0.2733 - val_accuracy: 0.8983\n",
      "Epoch 31/50\n",
      "205/205 [==============================] - 27s 131ms/step - loss: 0.1705 - accuracy: 0.9353 - val_loss: 0.3091 - val_accuracy: 0.8854\n",
      "Epoch 32/50\n",
      "205/205 [==============================] - 28s 136ms/step - loss: 0.1615 - accuracy: 0.9403 - val_loss: 0.2703 - val_accuracy: 0.9111\n",
      "Epoch 33/50\n",
      "205/205 [==============================] - 28s 135ms/step - loss: 0.1636 - accuracy: 0.9344 - val_loss: 0.2782 - val_accuracy: 0.9033\n",
      "Epoch 34/50\n",
      "205/205 [==============================] - 28s 135ms/step - loss: 0.1629 - accuracy: 0.9377 - val_loss: 0.2799 - val_accuracy: 0.9094\n",
      "Epoch 35/50\n",
      "205/205 [==============================] - 28s 136ms/step - loss: 0.1419 - accuracy: 0.9426 - val_loss: 0.2828 - val_accuracy: 0.9090\n",
      "Epoch 36/50\n",
      "205/205 [==============================] - 27s 134ms/step - loss: 0.1434 - accuracy: 0.9416 - val_loss: 0.3301 - val_accuracy: 0.8883\n",
      "Epoch 37/50\n",
      "205/205 [==============================] - 28s 136ms/step - loss: 0.1375 - accuracy: 0.9448 - val_loss: 0.3343 - val_accuracy: 0.9008\n",
      "Epoch 38/50\n",
      "205/205 [==============================] - 28s 135ms/step - loss: 0.1239 - accuracy: 0.9523 - val_loss: 0.2700 - val_accuracy: 0.9111\n",
      "Epoch 39/50\n",
      "205/205 [==============================] - 28s 136ms/step - loss: 0.1311 - accuracy: 0.9477 - val_loss: 0.2923 - val_accuracy: 0.9054\n",
      "Epoch 40/50\n",
      "205/205 [==============================] - 27s 133ms/step - loss: 0.1483 - accuracy: 0.9436 - val_loss: 0.2674 - val_accuracy: 0.9143\n",
      "Epoch 41/50\n",
      "205/205 [==============================] - 28s 135ms/step - loss: 0.1296 - accuracy: 0.9514 - val_loss: 0.2978 - val_accuracy: 0.9086\n",
      "Epoch 42/50\n",
      "205/205 [==============================] - 27s 132ms/step - loss: 0.1189 - accuracy: 0.9543 - val_loss: 0.3101 - val_accuracy: 0.9011\n",
      "Epoch 43/50\n",
      "205/205 [==============================] - 28s 135ms/step - loss: 0.1318 - accuracy: 0.9484 - val_loss: 0.2963 - val_accuracy: 0.9086\n",
      "Epoch 44/50\n",
      "205/205 [==============================] - 28s 135ms/step - loss: 0.1097 - accuracy: 0.9584 - val_loss: 0.2809 - val_accuracy: 0.9151\n",
      "Epoch 45/50\n",
      "205/205 [==============================] - 27s 134ms/step - loss: 0.1061 - accuracy: 0.9588 - val_loss: 0.3046 - val_accuracy: 0.9104\n",
      "Epoch 46/50\n",
      "205/205 [==============================] - 28s 135ms/step - loss: 0.1172 - accuracy: 0.9558 - val_loss: 0.3146 - val_accuracy: 0.8922\n",
      "Epoch 47/50\n",
      "205/205 [==============================] - 28s 135ms/step - loss: 0.1118 - accuracy: 0.9543 - val_loss: 0.2889 - val_accuracy: 0.9118\n",
      "Epoch 48/50\n",
      "205/205 [==============================] - 27s 133ms/step - loss: 0.1118 - accuracy: 0.9559 - val_loss: 0.3027 - val_accuracy: 0.9108\n",
      "Epoch 49/50\n",
      "205/205 [==============================] - 27s 132ms/step - loss: 0.1063 - accuracy: 0.9584 - val_loss: 0.3316 - val_accuracy: 0.9076\n",
      "Epoch 50/50\n",
      "205/205 [==============================] - 27s 134ms/step - loss: 0.1082 - accuracy: 0.9558 - val_loss: 0.3450 - val_accuracy: 0.8908\n"
     ]
    }
   ],
   "source": [
    "history = model.fit(X_train,y_train,validation_data = (X_test,y_test),epochs = 50)\n"
   ]
  },
  {
   "cell_type": "code",
   "execution_count": 30,
   "metadata": {},
   "outputs": [
    {
     "data": {
      "image/png": "[encoded data removed]",
      "text/plain": [
       "<Figure size 432x288 with 1 Axes>"
      ]
     },
     "metadata": {
      "needs_background": "light"
     },
     "output_type": "display_data"
    }
   ],
   "source": [
    "plt.plot(history.history['accuracy'],color = 'red', label = 'train')\n",
    "plt.plot(history.history['val_accuracy'],color = 'blue', label = 'validation')\n",
    "plt.legend()\n",
    "plt.show()"
   ]
  },
  {
   "cell_type": "code",
   "execution_count": 31,
   "metadata": {},
   "outputs": [
    {
     "data": {
      "image/png": "[encoded data removed]",
      "text/plain": [
       "<Figure size 432x288 with 1 Axes>"
      ]
     },
     "metadata": {
      "needs_background": "light"
     },
     "output_type": "display_data"
    }
   ],
   "source": [
    "plt.plot(history.history['loss'],color = 'red',label = 'train')\n",
    "plt.plot(history.history['val_loss'],color = 'blue',label = 'vaidation')\n",
    "plt.legend()\n",
    "plt.show()"
   ]
  },
  {
   "cell_type": "code",
   "execution_count": null,
   "metadata": {},
   "outputs": [],
   "source": []
  }
 ],
 "metadata": {
  "kernelspec": {
   "display_name": "Python 3",
   "language": "python",
   "name": "python3"
  },
  "language_info": {
   "codemirror_mode": {
    "name": "ipython",
    "version": 3
   },
   "file_extension": ".py",
   "mimetype": "text/x-python",
   "name": "python",
   "nbconvert_exporter": "python",
   "pygments_lexer": "ipython3",
   "version": "3.7.6"
  }
 },
 "nbformat": 4,
 "nbformat_minor": 4
}
